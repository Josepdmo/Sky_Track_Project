{
 "cells": [
  {
   "cell_type": "markdown",
   "metadata": {},
   "source": [
    "# Step 1 - Importing libraries and CSV files"
   ]
  },
  {
   "cell_type": "code",
   "execution_count": 26,
   "metadata": {},
   "outputs": [],
   "source": [
    "import gdown\n",
    "import pandas as pd\n",
    "import seaborn as sns\n",
    "import matplotlib as plt\n",
    "import plotly.express as px"
   ]
  },
  {
   "cell_type": "markdown",
   "metadata": {},
   "source": [
    "**This CSV file contains information about 1 Million flights that happened between the months of April and August 2022**"
   ]
  },
  {
   "cell_type": "code",
   "execution_count": 27,
   "metadata": {},
   "outputs": [
    {
     "data": {
      "text/html": [
       "<div>\n",
       "<style scoped>\n",
       "    .dataframe tbody tr th:only-of-type {\n",
       "        vertical-align: middle;\n",
       "    }\n",
       "\n",
       "    .dataframe tbody tr th {\n",
       "        vertical-align: top;\n",
       "    }\n",
       "\n",
       "    .dataframe thead th {\n",
       "        text-align: right;\n",
       "    }\n",
       "</style>\n",
       "<table border=\"1\" class=\"dataframe\">\n",
       "  <thead>\n",
       "    <tr style=\"text-align: right;\">\n",
       "      <th></th>\n",
       "      <th>from_airport_code</th>\n",
       "      <th>from_country</th>\n",
       "      <th>dest_airport_code</th>\n",
       "      <th>dest_country</th>\n",
       "      <th>aircraft_type</th>\n",
       "      <th>airline_number</th>\n",
       "      <th>airline_name</th>\n",
       "      <th>flight_number</th>\n",
       "      <th>departure_time</th>\n",
       "      <th>arrival_time</th>\n",
       "      <th>duration</th>\n",
       "      <th>stops</th>\n",
       "      <th>price</th>\n",
       "      <th>currency</th>\n",
       "      <th>co2_emissions</th>\n",
       "      <th>avg_co2_emission_for_this_route</th>\n",
       "      <th>co2_percentage</th>\n",
       "      <th>scan_date</th>\n",
       "    </tr>\n",
       "  </thead>\n",
       "  <tbody>\n",
       "    <tr>\n",
       "      <th>0</th>\n",
       "      <td>ALG</td>\n",
       "      <td>Algeria</td>\n",
       "      <td>AEP</td>\n",
       "      <td>Argentina</td>\n",
       "      <td>Airbus A318|Canadair RJ 1000|Airbus A330|Airbu...</td>\n",
       "      <td>multi</td>\n",
       "      <td>[Air France| Iberia| LATAM]</td>\n",
       "      <td>AF1491|AF1491|AF1491|AF1491</td>\n",
       "      <td>2022-04-30 14:30:00</td>\n",
       "      <td>2022-05-01 10:15:00</td>\n",
       "      <td>1425</td>\n",
       "      <td>3</td>\n",
       "      <td>1279.0</td>\n",
       "      <td>USD</td>\n",
       "      <td>1320000.0</td>\n",
       "      <td>1320000.0</td>\n",
       "      <td>0%</td>\n",
       "      <td>2022-04-29 17:52:59</td>\n",
       "    </tr>\n",
       "    <tr>\n",
       "      <th>1</th>\n",
       "      <td>ALG</td>\n",
       "      <td>Algeria</td>\n",
       "      <td>AEP</td>\n",
       "      <td>Argentina</td>\n",
       "      <td>Airbus A318|Canadair RJ 1000|Boeing 787|Airbus...</td>\n",
       "      <td>multi</td>\n",
       "      <td>[Air France| Iberia| LATAM]</td>\n",
       "      <td>AF1491|AF1491|AF1491|AF1491</td>\n",
       "      <td>2022-04-30 14:30:00</td>\n",
       "      <td>2022-05-01 10:15:00</td>\n",
       "      <td>1425</td>\n",
       "      <td>3</td>\n",
       "      <td>1279.0</td>\n",
       "      <td>USD</td>\n",
       "      <td>1195000.0</td>\n",
       "      <td>1320000.0</td>\n",
       "      <td>-9%</td>\n",
       "      <td>2022-04-29 17:52:59</td>\n",
       "    </tr>\n",
       "    <tr>\n",
       "      <th>2</th>\n",
       "      <td>ALG</td>\n",
       "      <td>Algeria</td>\n",
       "      <td>AEP</td>\n",
       "      <td>Argentina</td>\n",
       "      <td>Airbus A320|Airbus A321|Boeing 787|Airbus A320</td>\n",
       "      <td>multi</td>\n",
       "      <td>[Air France| LATAM]</td>\n",
       "      <td>AF1855|AF1855|AF1855|AF1855</td>\n",
       "      <td>2022-04-30 12:45:00</td>\n",
       "      <td>2022-05-01 10:15:00</td>\n",
       "      <td>1530</td>\n",
       "      <td>3</td>\n",
       "      <td>1284.0</td>\n",
       "      <td>USD</td>\n",
       "      <td>1248000.0</td>\n",
       "      <td>1320000.0</td>\n",
       "      <td>-5%</td>\n",
       "      <td>2022-04-29 17:52:59</td>\n",
       "    </tr>\n",
       "    <tr>\n",
       "      <th>3</th>\n",
       "      <td>ALG</td>\n",
       "      <td>Algeria</td>\n",
       "      <td>AEP</td>\n",
       "      <td>Argentina</td>\n",
       "      <td>Airbus A318|Airbus A320|Boeing 787|Airbus A320</td>\n",
       "      <td>multi</td>\n",
       "      <td>[Air France| LATAM]</td>\n",
       "      <td>AF1491|AF1491|AF1491|AF1491</td>\n",
       "      <td>2022-04-30 14:30:00</td>\n",
       "      <td>2022-05-01 10:15:00</td>\n",
       "      <td>1425</td>\n",
       "      <td>3</td>\n",
       "      <td>1290.0</td>\n",
       "      <td>USD</td>\n",
       "      <td>1347000.0</td>\n",
       "      <td>1320000.0</td>\n",
       "      <td>2%</td>\n",
       "      <td>2022-04-29 17:52:59</td>\n",
       "    </tr>\n",
       "    <tr>\n",
       "      <th>4</th>\n",
       "      <td>ALG</td>\n",
       "      <td>Algeria</td>\n",
       "      <td>AEP</td>\n",
       "      <td>Argentina</td>\n",
       "      <td>Airbus A321neo|Boeing 777|Airbus A320</td>\n",
       "      <td>multi</td>\n",
       "      <td>[Lufthansa| LATAM]</td>\n",
       "      <td>LH1317|LH1317|LH1317</td>\n",
       "      <td>2022-04-30 12:35:00</td>\n",
       "      <td>2022-05-01 10:15:00</td>\n",
       "      <td>1540</td>\n",
       "      <td>2</td>\n",
       "      <td>1347.0</td>\n",
       "      <td>USD</td>\n",
       "      <td>1381000.0</td>\n",
       "      <td>1320000.0</td>\n",
       "      <td>4%</td>\n",
       "      <td>2022-04-29 17:52:59</td>\n",
       "    </tr>\n",
       "    <tr>\n",
       "      <th>...</th>\n",
       "      <td>...</td>\n",
       "      <td>...</td>\n",
       "      <td>...</td>\n",
       "      <td>...</td>\n",
       "      <td>...</td>\n",
       "      <td>...</td>\n",
       "      <td>...</td>\n",
       "      <td>...</td>\n",
       "      <td>...</td>\n",
       "      <td>...</td>\n",
       "      <td>...</td>\n",
       "      <td>...</td>\n",
       "      <td>...</td>\n",
       "      <td>...</td>\n",
       "      <td>...</td>\n",
       "      <td>...</td>\n",
       "      <td>...</td>\n",
       "      <td>...</td>\n",
       "    </tr>\n",
       "    <tr>\n",
       "      <th>998861</th>\n",
       "      <td>BOM</td>\n",
       "      <td>India</td>\n",
       "      <td>SYD</td>\n",
       "      <td>Australia</td>\n",
       "      <td>Boeing 777|Airbus A380</td>\n",
       "      <td>EK</td>\n",
       "      <td>[Emirates]</td>\n",
       "      <td>EK503|EK503</td>\n",
       "      <td>2022-05-01 19:20:00</td>\n",
       "      <td>2022-05-02 22:05:00</td>\n",
       "      <td>1335</td>\n",
       "      <td>1</td>\n",
       "      <td>1317.0</td>\n",
       "      <td>USD</td>\n",
       "      <td>1567000.0</td>\n",
       "      <td>1133000.0</td>\n",
       "      <td>38%</td>\n",
       "      <td>2022-04-29 17:52:59</td>\n",
       "    </tr>\n",
       "    <tr>\n",
       "      <th>998862</th>\n",
       "      <td>BOM</td>\n",
       "      <td>India</td>\n",
       "      <td>SYD</td>\n",
       "      <td>Australia</td>\n",
       "      <td>Boeing 777|Airbus A380</td>\n",
       "      <td>EK</td>\n",
       "      <td>[Emirates]</td>\n",
       "      <td>EK509|EK509</td>\n",
       "      <td>2022-05-01 22:20:00</td>\n",
       "      <td>2022-05-02 22:05:00</td>\n",
       "      <td>1155</td>\n",
       "      <td>1</td>\n",
       "      <td>1317.0</td>\n",
       "      <td>USD</td>\n",
       "      <td>1583000.0</td>\n",
       "      <td>1133000.0</td>\n",
       "      <td>39%</td>\n",
       "      <td>2022-04-29 17:52:59</td>\n",
       "    </tr>\n",
       "    <tr>\n",
       "      <th>998863</th>\n",
       "      <td>BOM</td>\n",
       "      <td>India</td>\n",
       "      <td>SYD</td>\n",
       "      <td>Australia</td>\n",
       "      <td>Airbus A350|Boeing 787|Boeing 737</td>\n",
       "      <td>multi</td>\n",
       "      <td>[Etihad| Virgin Australia]</td>\n",
       "      <td>EY205|EY205|EY205</td>\n",
       "      <td>2022-05-01 04:35:00</td>\n",
       "      <td>2022-05-02 09:55:00</td>\n",
       "      <td>1490</td>\n",
       "      <td>2</td>\n",
       "      <td>1328.0</td>\n",
       "      <td>USD</td>\n",
       "      <td>1354000.0</td>\n",
       "      <td>1133000.0</td>\n",
       "      <td>19%</td>\n",
       "      <td>2022-04-29 17:52:59</td>\n",
       "    </tr>\n",
       "    <tr>\n",
       "      <th>998864</th>\n",
       "      <td>BOM</td>\n",
       "      <td>India</td>\n",
       "      <td>SYD</td>\n",
       "      <td>Australia</td>\n",
       "      <td>Airbus A321 (Sharklets)|Airbus A321|Airbus A330</td>\n",
       "      <td>multi</td>\n",
       "      <td>[Air India| SriLankan]</td>\n",
       "      <td>AI603|AI603|AI603</td>\n",
       "      <td>2022-05-01 06:10:00</td>\n",
       "      <td>2022-05-02 14:55:00</td>\n",
       "      <td>1695</td>\n",
       "      <td>2</td>\n",
       "      <td>1368.0</td>\n",
       "      <td>USD</td>\n",
       "      <td>1099000.0</td>\n",
       "      <td>1133000.0</td>\n",
       "      <td>-2%</td>\n",
       "      <td>2022-04-29 17:52:59</td>\n",
       "    </tr>\n",
       "    <tr>\n",
       "      <th>998865</th>\n",
       "      <td>BOM</td>\n",
       "      <td>India</td>\n",
       "      <td>SYD</td>\n",
       "      <td>Australia</td>\n",
       "      <td>Airbus A321 (Sharklets)|Airbus A321|Airbus A330</td>\n",
       "      <td>multi</td>\n",
       "      <td>[Air India| SriLankan]</td>\n",
       "      <td>AI639|AI639|AI639</td>\n",
       "      <td>2022-05-01 09:30:00</td>\n",
       "      <td>2022-05-02 14:55:00</td>\n",
       "      <td>1495</td>\n",
       "      <td>2</td>\n",
       "      <td>1368.0</td>\n",
       "      <td>USD</td>\n",
       "      <td>1099000.0</td>\n",
       "      <td>1133000.0</td>\n",
       "      <td>-2%</td>\n",
       "      <td>2022-04-29 17:52:59</td>\n",
       "    </tr>\n",
       "  </tbody>\n",
       "</table>\n",
       "<p>998866 rows × 18 columns</p>\n",
       "</div>"
      ],
      "text/plain": [
       "       from_airport_code from_country dest_airport_code dest_country  \\\n",
       "0                    ALG      Algeria               AEP    Argentina   \n",
       "1                    ALG      Algeria               AEP    Argentina   \n",
       "2                    ALG      Algeria               AEP    Argentina   \n",
       "3                    ALG      Algeria               AEP    Argentina   \n",
       "4                    ALG      Algeria               AEP    Argentina   \n",
       "...                  ...          ...               ...          ...   \n",
       "998861               BOM        India               SYD    Australia   \n",
       "998862               BOM        India               SYD    Australia   \n",
       "998863               BOM        India               SYD    Australia   \n",
       "998864               BOM        India               SYD    Australia   \n",
       "998865               BOM        India               SYD    Australia   \n",
       "\n",
       "                                            aircraft_type airline_number  \\\n",
       "0       Airbus A318|Canadair RJ 1000|Airbus A330|Airbu...          multi   \n",
       "1       Airbus A318|Canadair RJ 1000|Boeing 787|Airbus...          multi   \n",
       "2          Airbus A320|Airbus A321|Boeing 787|Airbus A320          multi   \n",
       "3          Airbus A318|Airbus A320|Boeing 787|Airbus A320          multi   \n",
       "4                   Airbus A321neo|Boeing 777|Airbus A320          multi   \n",
       "...                                                   ...            ...   \n",
       "998861                             Boeing 777|Airbus A380             EK   \n",
       "998862                             Boeing 777|Airbus A380             EK   \n",
       "998863                  Airbus A350|Boeing 787|Boeing 737          multi   \n",
       "998864    Airbus A321 (Sharklets)|Airbus A321|Airbus A330          multi   \n",
       "998865    Airbus A321 (Sharklets)|Airbus A321|Airbus A330          multi   \n",
       "\n",
       "                       airline_name                flight_number  \\\n",
       "0       [Air France| Iberia| LATAM]  AF1491|AF1491|AF1491|AF1491   \n",
       "1       [Air France| Iberia| LATAM]  AF1491|AF1491|AF1491|AF1491   \n",
       "2               [Air France| LATAM]  AF1855|AF1855|AF1855|AF1855   \n",
       "3               [Air France| LATAM]  AF1491|AF1491|AF1491|AF1491   \n",
       "4                [Lufthansa| LATAM]         LH1317|LH1317|LH1317   \n",
       "...                             ...                          ...   \n",
       "998861                   [Emirates]                  EK503|EK503   \n",
       "998862                   [Emirates]                  EK509|EK509   \n",
       "998863   [Etihad| Virgin Australia]            EY205|EY205|EY205   \n",
       "998864       [Air India| SriLankan]            AI603|AI603|AI603   \n",
       "998865       [Air India| SriLankan]            AI639|AI639|AI639   \n",
       "\n",
       "             departure_time         arrival_time  duration  stops   price  \\\n",
       "0       2022-04-30 14:30:00  2022-05-01 10:15:00      1425      3  1279.0   \n",
       "1       2022-04-30 14:30:00  2022-05-01 10:15:00      1425      3  1279.0   \n",
       "2       2022-04-30 12:45:00  2022-05-01 10:15:00      1530      3  1284.0   \n",
       "3       2022-04-30 14:30:00  2022-05-01 10:15:00      1425      3  1290.0   \n",
       "4       2022-04-30 12:35:00  2022-05-01 10:15:00      1540      2  1347.0   \n",
       "...                     ...                  ...       ...    ...     ...   \n",
       "998861  2022-05-01 19:20:00  2022-05-02 22:05:00      1335      1  1317.0   \n",
       "998862  2022-05-01 22:20:00  2022-05-02 22:05:00      1155      1  1317.0   \n",
       "998863  2022-05-01 04:35:00  2022-05-02 09:55:00      1490      2  1328.0   \n",
       "998864  2022-05-01 06:10:00  2022-05-02 14:55:00      1695      2  1368.0   \n",
       "998865  2022-05-01 09:30:00  2022-05-02 14:55:00      1495      2  1368.0   \n",
       "\n",
       "       currency  co2_emissions  avg_co2_emission_for_this_route  \\\n",
       "0           USD      1320000.0                        1320000.0   \n",
       "1           USD      1195000.0                        1320000.0   \n",
       "2           USD      1248000.0                        1320000.0   \n",
       "3           USD      1347000.0                        1320000.0   \n",
       "4           USD      1381000.0                        1320000.0   \n",
       "...         ...            ...                              ...   \n",
       "998861      USD      1567000.0                        1133000.0   \n",
       "998862      USD      1583000.0                        1133000.0   \n",
       "998863      USD      1354000.0                        1133000.0   \n",
       "998864      USD      1099000.0                        1133000.0   \n",
       "998865      USD      1099000.0                        1133000.0   \n",
       "\n",
       "       co2_percentage            scan_date  \n",
       "0                  0%  2022-04-29 17:52:59  \n",
       "1                 -9%  2022-04-29 17:52:59  \n",
       "2                 -5%  2022-04-29 17:52:59  \n",
       "3                  2%  2022-04-29 17:52:59  \n",
       "4                  4%  2022-04-29 17:52:59  \n",
       "...               ...                  ...  \n",
       "998861            38%  2022-04-29 17:52:59  \n",
       "998862            39%  2022-04-29 17:52:59  \n",
       "998863            19%  2022-04-29 17:52:59  \n",
       "998864            -2%  2022-04-29 17:52:59  \n",
       "998865            -2%  2022-04-29 17:52:59  \n",
       "\n",
       "[998866 rows x 18 columns]"
      ]
     },
     "metadata": {},
     "output_type": "display_data"
    }
   ],
   "source": [
    "\n",
    "try:\n",
    "    df = pd.read_csv(\"downloaded_file.csv\")\n",
    "    display(df)\n",
    "\n",
    "except:\n",
    "    \n",
    "    file_id = '1HZUl8G9vkjTzYCQ43sOsMEIy-MP6k4v8'\n",
    "\n",
    "    url = f'https://drive.google.com/uc?id={file_id}'\n",
    "\n",
    "    output_path = 'downloaded_file.csv'  # Cambia la extensión si no es un CSV\n",
    "\n",
    "    gdown.download(url, output_path, quiet=False)\n",
    "\n",
    "    df = pd.read_csv(output_path)\n",
    "\n",
    "    df"
   ]
  },
  {
   "cell_type": "markdown",
   "metadata": {},
   "source": [
    "**This CSV document is a list of all airport codes and the cities such airports are located**"
   ]
  },
  {
   "cell_type": "code",
   "execution_count": 28,
   "metadata": {},
   "outputs": [
    {
     "data": {
      "text/html": [
       "<div>\n",
       "<style scoped>\n",
       "    .dataframe tbody tr th:only-of-type {\n",
       "        vertical-align: middle;\n",
       "    }\n",
       "\n",
       "    .dataframe tbody tr th {\n",
       "        vertical-align: top;\n",
       "    }\n",
       "\n",
       "    .dataframe thead th {\n",
       "        text-align: right;\n",
       "    }\n",
       "</style>\n",
       "<table border=\"1\" class=\"dataframe\">\n",
       "  <thead>\n",
       "    <tr style=\"text-align: right;\">\n",
       "      <th></th>\n",
       "      <th>index</th>\n",
       "      <th>Airport Name</th>\n",
       "      <th>City</th>\n",
       "      <th>Country</th>\n",
       "      <th>three-digit code</th>\n",
       "      <th>four_digit</th>\n",
       "      <th>l1</th>\n",
       "      <th>l2</th>\n",
       "    </tr>\n",
       "  </thead>\n",
       "  <tbody>\n",
       "    <tr>\n",
       "      <th>0</th>\n",
       "      <td>0</td>\n",
       "      <td>Forestville Airport</td>\n",
       "      <td>Forestville</td>\n",
       "      <td>Canada</td>\n",
       "      <td>NaN</td>\n",
       "      <td>CYFE</td>\n",
       "      <td>48.746101</td>\n",
       "      <td>-69.097198</td>\n",
       "    </tr>\n",
       "    <tr>\n",
       "      <th>1</th>\n",
       "      <td>1</td>\n",
       "      <td>Pitt Meadows Airport</td>\n",
       "      <td>Pitt Meadows</td>\n",
       "      <td>Canada</td>\n",
       "      <td>NaN</td>\n",
       "      <td>CYPK</td>\n",
       "      <td>49.216099</td>\n",
       "      <td>-122.709999</td>\n",
       "    </tr>\n",
       "    <tr>\n",
       "      <th>2</th>\n",
       "      <td>2</td>\n",
       "      <td>Blida Airport</td>\n",
       "      <td>Blida</td>\n",
       "      <td>Algeria</td>\n",
       "      <td>NaN</td>\n",
       "      <td>DAAB</td>\n",
       "      <td>36.503601</td>\n",
       "      <td>2.814170</td>\n",
       "    </tr>\n",
       "    <tr>\n",
       "      <th>3</th>\n",
       "      <td>3</td>\n",
       "      <td>Bou Saada Airport</td>\n",
       "      <td>Bou Saada</td>\n",
       "      <td>Algeria</td>\n",
       "      <td>NaN</td>\n",
       "      <td>DAAD</td>\n",
       "      <td>35.332500</td>\n",
       "      <td>4.206390</td>\n",
       "    </tr>\n",
       "    <tr>\n",
       "      <th>4</th>\n",
       "      <td>4</td>\n",
       "      <td>Reggane Airport</td>\n",
       "      <td>Reggan</td>\n",
       "      <td>Algeria</td>\n",
       "      <td>NaN</td>\n",
       "      <td>DAAN</td>\n",
       "      <td>26.710100</td>\n",
       "      <td>0.285647</td>\n",
       "    </tr>\n",
       "    <tr>\n",
       "      <th>...</th>\n",
       "      <td>...</td>\n",
       "      <td>...</td>\n",
       "      <td>...</td>\n",
       "      <td>...</td>\n",
       "      <td>...</td>\n",
       "      <td>...</td>\n",
       "      <td>...</td>\n",
       "      <td>...</td>\n",
       "    </tr>\n",
       "    <tr>\n",
       "      <th>7179</th>\n",
       "      <td>7179</td>\n",
       "      <td>Zunyi Xinzhou Airport</td>\n",
       "      <td>Zunyi</td>\n",
       "      <td>China</td>\n",
       "      <td>ZYI</td>\n",
       "      <td>ZUZY</td>\n",
       "      <td>27.589500</td>\n",
       "      <td>107.000700</td>\n",
       "    </tr>\n",
       "    <tr>\n",
       "      <th>7180</th>\n",
       "      <td>7180</td>\n",
       "      <td>Osmany International Airport</td>\n",
       "      <td>Sylhet Osmani</td>\n",
       "      <td>Bangladesh</td>\n",
       "      <td>ZYL</td>\n",
       "      <td>VGSY</td>\n",
       "      <td>24.963200</td>\n",
       "      <td>91.866798</td>\n",
       "    </tr>\n",
       "    <tr>\n",
       "      <th>7181</th>\n",
       "      <td>7181</td>\n",
       "      <td>Mzuzu Airport</td>\n",
       "      <td>Mzuzu</td>\n",
       "      <td>Malawi</td>\n",
       "      <td>ZZU</td>\n",
       "      <td>FWUU</td>\n",
       "      <td>-11.444700</td>\n",
       "      <td>34.011799</td>\n",
       "    </tr>\n",
       "    <tr>\n",
       "      <th>7182</th>\n",
       "      <td>7182</td>\n",
       "      <td>Zanesville Municipal Airport</td>\n",
       "      <td>Zanesville</td>\n",
       "      <td>United States</td>\n",
       "      <td>ZZV</td>\n",
       "      <td>KZZV</td>\n",
       "      <td>39.944401</td>\n",
       "      <td>-81.892097</td>\n",
       "    </tr>\n",
       "    <tr>\n",
       "      <th>7183</th>\n",
       "      <td>7183</td>\n",
       "      <td>Liverpool South Shore Regional Airport</td>\n",
       "      <td>Liverpool</td>\n",
       "      <td>Canada</td>\n",
       "      <td>NaN</td>\n",
       "      <td>CYAU</td>\n",
       "      <td>44.230301</td>\n",
       "      <td>-64.856102</td>\n",
       "    </tr>\n",
       "  </tbody>\n",
       "</table>\n",
       "<p>7184 rows × 8 columns</p>\n",
       "</div>"
      ],
      "text/plain": [
       "      index                            Airport Name           City  \\\n",
       "0         0                     Forestville Airport    Forestville   \n",
       "1         1                    Pitt Meadows Airport   Pitt Meadows   \n",
       "2         2                           Blida Airport          Blida   \n",
       "3         3                       Bou Saada Airport      Bou Saada   \n",
       "4         4                         Reggane Airport         Reggan   \n",
       "...     ...                                     ...            ...   \n",
       "7179   7179                   Zunyi Xinzhou Airport          Zunyi   \n",
       "7180   7180            Osmany International Airport  Sylhet Osmani   \n",
       "7181   7181                           Mzuzu Airport          Mzuzu   \n",
       "7182   7182            Zanesville Municipal Airport     Zanesville   \n",
       "7183   7183  Liverpool South Shore Regional Airport      Liverpool   \n",
       "\n",
       "            Country three-digit code four_digit         l1          l2  \n",
       "0            Canada              NaN       CYFE  48.746101  -69.097198  \n",
       "1            Canada              NaN       CYPK  49.216099 -122.709999  \n",
       "2           Algeria              NaN       DAAB  36.503601    2.814170  \n",
       "3           Algeria              NaN       DAAD  35.332500    4.206390  \n",
       "4           Algeria              NaN       DAAN  26.710100    0.285647  \n",
       "...             ...              ...        ...        ...         ...  \n",
       "7179          China              ZYI       ZUZY  27.589500  107.000700  \n",
       "7180     Bangladesh              ZYL       VGSY  24.963200   91.866798  \n",
       "7181         Malawi              ZZU       FWUU -11.444700   34.011799  \n",
       "7182  United States              ZZV       KZZV  39.944401  -81.892097  \n",
       "7183         Canada              NaN       CYAU  44.230301  -64.856102  \n",
       "\n",
       "[7184 rows x 8 columns]"
      ]
     },
     "metadata": {},
     "output_type": "display_data"
    }
   ],
   "source": [
    "try:\n",
    "    df_airport_codes = pd.read_csv(\"city-mappings.csv\")\n",
    "    display(df_airport_codes)\n",
    "\n",
    "except:\n",
    "    \n",
    "    file_id = '11sqbXlS21wFF4fsxtfurReCvOncVDIpW'\n",
    "\n",
    "    url = f'https://drive.google.com/uc?id={file_id}'\n",
    "\n",
    "    output_path = 'city-mappings-csv'  # Cambia la extensión si no es un CSV\n",
    "\n",
    "    gdown.download(url, output_path, quiet=False)\n",
    "\n",
    "    df_airport_codes = pd.read_csv(output_path)\n",
    "\n",
    "    df_airport_codes\n",
    "\n",
    "  "
   ]
  },
  {
   "cell_type": "markdown",
   "metadata": {},
   "source": [
    "# Step 2 - Merging the two data frames"
   ]
  },
  {
   "cell_type": "markdown",
   "metadata": {},
   "source": [
    "**2.1 - We will only merge the \"city\" and \"three-digit code\" columns from the df_airport_codes to the main dataframe; therefore, the other columns may be dropped**"
   ]
  },
  {
   "cell_type": "code",
   "execution_count": 29,
   "metadata": {},
   "outputs": [
    {
     "data": {
      "text/html": [
       "<div>\n",
       "<style scoped>\n",
       "    .dataframe tbody tr th:only-of-type {\n",
       "        vertical-align: middle;\n",
       "    }\n",
       "\n",
       "    .dataframe tbody tr th {\n",
       "        vertical-align: top;\n",
       "    }\n",
       "\n",
       "    .dataframe thead th {\n",
       "        text-align: right;\n",
       "    }\n",
       "</style>\n",
       "<table border=\"1\" class=\"dataframe\">\n",
       "  <thead>\n",
       "    <tr style=\"text-align: right;\">\n",
       "      <th></th>\n",
       "      <th>City</th>\n",
       "      <th>three-digit code</th>\n",
       "    </tr>\n",
       "  </thead>\n",
       "  <tbody>\n",
       "    <tr>\n",
       "      <th>0</th>\n",
       "      <td>Forestville</td>\n",
       "      <td>NaN</td>\n",
       "    </tr>\n",
       "    <tr>\n",
       "      <th>1</th>\n",
       "      <td>Pitt Meadows</td>\n",
       "      <td>NaN</td>\n",
       "    </tr>\n",
       "    <tr>\n",
       "      <th>2</th>\n",
       "      <td>Blida</td>\n",
       "      <td>NaN</td>\n",
       "    </tr>\n",
       "    <tr>\n",
       "      <th>3</th>\n",
       "      <td>Bou Saada</td>\n",
       "      <td>NaN</td>\n",
       "    </tr>\n",
       "    <tr>\n",
       "      <th>4</th>\n",
       "      <td>Reggan</td>\n",
       "      <td>NaN</td>\n",
       "    </tr>\n",
       "    <tr>\n",
       "      <th>...</th>\n",
       "      <td>...</td>\n",
       "      <td>...</td>\n",
       "    </tr>\n",
       "    <tr>\n",
       "      <th>7179</th>\n",
       "      <td>Zunyi</td>\n",
       "      <td>ZYI</td>\n",
       "    </tr>\n",
       "    <tr>\n",
       "      <th>7180</th>\n",
       "      <td>Sylhet Osmani</td>\n",
       "      <td>ZYL</td>\n",
       "    </tr>\n",
       "    <tr>\n",
       "      <th>7181</th>\n",
       "      <td>Mzuzu</td>\n",
       "      <td>ZZU</td>\n",
       "    </tr>\n",
       "    <tr>\n",
       "      <th>7182</th>\n",
       "      <td>Zanesville</td>\n",
       "      <td>ZZV</td>\n",
       "    </tr>\n",
       "    <tr>\n",
       "      <th>7183</th>\n",
       "      <td>Liverpool</td>\n",
       "      <td>NaN</td>\n",
       "    </tr>\n",
       "  </tbody>\n",
       "</table>\n",
       "<p>7184 rows × 2 columns</p>\n",
       "</div>"
      ],
      "text/plain": [
       "               City three-digit code\n",
       "0       Forestville              NaN\n",
       "1      Pitt Meadows              NaN\n",
       "2             Blida              NaN\n",
       "3         Bou Saada              NaN\n",
       "4            Reggan              NaN\n",
       "...             ...              ...\n",
       "7179          Zunyi              ZYI\n",
       "7180  Sylhet Osmani              ZYL\n",
       "7181          Mzuzu              ZZU\n",
       "7182     Zanesville              ZZV\n",
       "7183      Liverpool              NaN\n",
       "\n",
       "[7184 rows x 2 columns]"
      ]
     },
     "execution_count": 29,
     "metadata": {},
     "output_type": "execute_result"
    }
   ],
   "source": [
    "df_airport_codes.drop(columns=[\"index\",\"Airport Name\", \"four_digit\", \"l1\", \"l2\", \"Country\"], inplace=True)\n",
    "df_airport_codes"
   ]
  },
  {
   "cell_type": "markdown",
   "metadata": {},
   "source": [
    "**2.2 - Merge the two dataframes to display the city corresponding to each airport code.**"
   ]
  },
  {
   "cell_type": "code",
   "execution_count": 30,
   "metadata": {},
   "outputs": [],
   "source": [
    "\n",
    "# Rename columns in df_airport_codes for city_of_departure\n",
    "df_airport_codes_departure = df_airport_codes.rename(columns={'three-digit code': 'from_airport_code', 'City': 'city_of_departure'})\n",
    "\n",
    "# Perform the merge to add city_of_departure\n",
    "df = pd.merge(df, df_airport_codes_departure[['from_airport_code', 'city_of_departure']], on='from_airport_code', how='left')\n",
    "\n",
    "# Rename columns in df_airport_codes for city_of_arrival\n",
    "df_airport_codes_arrival = df_airport_codes.rename(columns={'three-digit code': 'dest_airport_code', 'City': 'city_of_arrival'})\n",
    "\n",
    "# Perform the merge to add city_of_arrival\n",
    "df = pd.merge(df, df_airport_codes_arrival[['dest_airport_code', 'city_of_arrival']], on='dest_airport_code', how='left')\n",
    "\n",
    "# Reorder the columns to place city_of_departure and city_of_arrival next to their respective airport codes\n",
    "cols = df.columns.tolist()\n",
    "from_idx = cols.index('from_airport_code') + 1\n",
    "to_idx = cols.index('dest_airport_code') + 1\n",
    "\n",
    "cols.insert(from_idx, cols.pop(cols.index('city_of_departure')))\n",
    "cols.insert(to_idx, cols.pop(cols.index('city_of_arrival')))\n",
    "\n",
    "df = df[cols]\n",
    "\n",
    "\n"
   ]
  },
  {
   "cell_type": "markdown",
   "metadata": {},
   "source": [
    "# Step 3 - Cleaning the data"
   ]
  },
  {
   "cell_type": "markdown",
   "metadata": {},
   "source": [
    "**3.1 - The first step is to drop all rows (flights) that include layovers. This is crucial because layovers distort the analysis of flight duration by including the time spent during the layover, preventing an accurate assessment of actual flying time. Moreover, when layovers are involved, the table only shows the aircraft used without specifying the distance each aircraft traveled. This lack of detailed information makes it very difficult to accurately determine the pollution levels of each type of aircraft. By excluding layovers, we ensure that we can more easily and precisely analyze the emissions and performance of individual aircraft types.**"
   ]
  },
  {
   "cell_type": "code",
   "execution_count": 31,
   "metadata": {},
   "outputs": [],
   "source": [
    "df = df[df.stops == 0]"
   ]
  },
  {
   "cell_type": "markdown",
   "metadata": {},
   "source": [
    "**3.2 - We rename the duration column, so it is clear that it is measured with minutes.**"
   ]
  },
  {
   "cell_type": "code",
   "execution_count": 32,
   "metadata": {},
   "outputs": [],
   "source": [
    "df.rename(columns= {'duration': 'duration_minutes'}, inplace = True)"
   ]
  },
  {
   "cell_type": "markdown",
   "metadata": {},
   "source": [
    "**3.3 - We eliminate all rows that do not provide information about CO2 emissions, which is very crucial data for this analysis.**"
   ]
  },
  {
   "cell_type": "code",
   "execution_count": 44,
   "metadata": {},
   "outputs": [
    {
     "data": {
      "text/plain": [
       "from_airport_code                    0\n",
       "city_of_departure                    0\n",
       "from_country                         0\n",
       "city_of_arrival                      0\n",
       "dest_airport_code                    0\n",
       "dest_country                         0\n",
       "aircraft_type                      224\n",
       "airline_number                       0\n",
       "airline_name                         0\n",
       "flight_number                        0\n",
       "departure_time                       0\n",
       "arrival_time                         0\n",
       "duration_minutes                     0\n",
       "stops                                0\n",
       "price                              847\n",
       "currency                             0\n",
       "co2_emissions                        0\n",
       "avg_co2_emission_for_this_route      0\n",
       "co2_percentage                       0\n",
       "scan_date                            0\n",
       "dtype: int64"
      ]
     },
     "execution_count": 44,
     "metadata": {},
     "output_type": "execute_result"
    }
   ],
   "source": [
    "df.dropna(subset= \"co2_emissions\", inplace=True)\n",
    "df.isnull().sum()"
   ]
  },
  {
   "cell_type": "markdown",
   "metadata": {},
   "source": [
    "**3.4 - We fill in null values in avg_co2_emission_for_this_route and co2_percentage.**"
   ]
  },
  {
   "cell_type": "code",
   "execution_count": 34,
   "metadata": {},
   "outputs": [
    {
     "name": "stderr",
     "output_type": "stream",
     "text": [
      "/var/folders/n6/6tdhcx8d7tq5v5rgh8bbvm8c0000gn/T/ipykernel_18704/3350462465.py:14: FutureWarning:\n",
      "\n",
      "A value is trying to be set on a copy of a DataFrame or Series through chained assignment using an inplace method.\n",
      "The behavior will change in pandas 3.0. This inplace method will never work because the intermediate object on which we are setting values always behaves as a copy.\n",
      "\n",
      "For example, when doing 'df[col].method(value, inplace=True)', try using 'df.method({col: value}, inplace=True)' or df[col] = df[col].method(value) instead, to perform the operation inplace on the original object.\n",
      "\n",
      "\n",
      "\n"
     ]
    },
    {
     "data": {
      "text/html": [
       "<div>\n",
       "<style scoped>\n",
       "    .dataframe tbody tr th:only-of-type {\n",
       "        vertical-align: middle;\n",
       "    }\n",
       "\n",
       "    .dataframe tbody tr th {\n",
       "        vertical-align: top;\n",
       "    }\n",
       "\n",
       "    .dataframe thead th {\n",
       "        text-align: right;\n",
       "    }\n",
       "</style>\n",
       "<table border=\"1\" class=\"dataframe\">\n",
       "  <thead>\n",
       "    <tr style=\"text-align: right;\">\n",
       "      <th></th>\n",
       "      <th>from_airport_code</th>\n",
       "      <th>city_of_departure</th>\n",
       "      <th>from_country</th>\n",
       "      <th>city_of_arrival</th>\n",
       "      <th>dest_airport_code</th>\n",
       "      <th>dest_country</th>\n",
       "      <th>aircraft_type</th>\n",
       "      <th>airline_number</th>\n",
       "      <th>airline_name</th>\n",
       "      <th>flight_number</th>\n",
       "      <th>departure_time</th>\n",
       "      <th>arrival_time</th>\n",
       "      <th>duration_minutes</th>\n",
       "      <th>stops</th>\n",
       "      <th>price</th>\n",
       "      <th>currency</th>\n",
       "      <th>co2_emissions</th>\n",
       "      <th>avg_co2_emission_for_this_route</th>\n",
       "      <th>co2_percentage</th>\n",
       "      <th>scan_date</th>\n",
       "    </tr>\n",
       "  </thead>\n",
       "  <tbody>\n",
       "    <tr>\n",
       "      <th>0</th>\n",
       "      <td>ALG</td>\n",
       "      <td>Algier</td>\n",
       "      <td>Algeria</td>\n",
       "      <td>Cairo</td>\n",
       "      <td>CAI</td>\n",
       "      <td>Egypt</td>\n",
       "      <td>Boeing 737</td>\n",
       "      <td>MS</td>\n",
       "      <td>[EgyptAir]</td>\n",
       "      <td>MS846</td>\n",
       "      <td>2022-05-29 12:55:00</td>\n",
       "      <td>2022-05-29 17:30:00</td>\n",
       "      <td>215</td>\n",
       "      <td>0</td>\n",
       "      <td>350.0</td>\n",
       "      <td>USD</td>\n",
       "      <td>327000.0</td>\n",
       "      <td>454000.0</td>\n",
       "      <td>-27.973568</td>\n",
       "      <td>2022-04-29 17:52:59</td>\n",
       "    </tr>\n",
       "    <tr>\n",
       "      <th>1</th>\n",
       "      <td>ALG</td>\n",
       "      <td>Algier</td>\n",
       "      <td>Algeria</td>\n",
       "      <td>Paris</td>\n",
       "      <td>CDG</td>\n",
       "      <td>France</td>\n",
       "      <td>Boeing 737</td>\n",
       "      <td>5O</td>\n",
       "      <td>[ASL Airlines]</td>\n",
       "      <td>5O162</td>\n",
       "      <td>2022-04-30 10:20:00</td>\n",
       "      <td>2022-04-30 13:40:00</td>\n",
       "      <td>140</td>\n",
       "      <td>0</td>\n",
       "      <td>97.0</td>\n",
       "      <td>USD</td>\n",
       "      <td>210000.0</td>\n",
       "      <td>186000.0</td>\n",
       "      <td>12.903226</td>\n",
       "      <td>2022-04-29 17:52:59</td>\n",
       "    </tr>\n",
       "    <tr>\n",
       "      <th>2</th>\n",
       "      <td>ALG</td>\n",
       "      <td>Algier</td>\n",
       "      <td>Algeria</td>\n",
       "      <td>Cairo</td>\n",
       "      <td>CAI</td>\n",
       "      <td>Egypt</td>\n",
       "      <td>Boeing 737</td>\n",
       "      <td>MS</td>\n",
       "      <td>[EgyptAir]</td>\n",
       "      <td>MS846</td>\n",
       "      <td>2022-07-28 12:55:00</td>\n",
       "      <td>2022-07-28 17:30:00</td>\n",
       "      <td>215</td>\n",
       "      <td>0</td>\n",
       "      <td>350.0</td>\n",
       "      <td>USD</td>\n",
       "      <td>327000.0</td>\n",
       "      <td>454000.0</td>\n",
       "      <td>-27.973568</td>\n",
       "      <td>2022-04-29 17:52:59</td>\n",
       "    </tr>\n",
       "    <tr>\n",
       "      <th>3</th>\n",
       "      <td>ALG</td>\n",
       "      <td>Algier</td>\n",
       "      <td>Algeria</td>\n",
       "      <td>Paris</td>\n",
       "      <td>CDG</td>\n",
       "      <td>France</td>\n",
       "      <td>Boeing 737</td>\n",
       "      <td>5O</td>\n",
       "      <td>[ASL Airlines]</td>\n",
       "      <td>5O162</td>\n",
       "      <td>2022-05-02 10:20:00</td>\n",
       "      <td>2022-05-02 13:40:00</td>\n",
       "      <td>140</td>\n",
       "      <td>0</td>\n",
       "      <td>202.0</td>\n",
       "      <td>USD</td>\n",
       "      <td>186000.0</td>\n",
       "      <td>186000.0</td>\n",
       "      <td>0.000000</td>\n",
       "      <td>2022-04-29 17:52:59</td>\n",
       "    </tr>\n",
       "    <tr>\n",
       "      <th>4</th>\n",
       "      <td>ALG</td>\n",
       "      <td>Algier</td>\n",
       "      <td>Algeria</td>\n",
       "      <td>Paris</td>\n",
       "      <td>CDG</td>\n",
       "      <td>France</td>\n",
       "      <td>Boeing 737</td>\n",
       "      <td>5O</td>\n",
       "      <td>[ASL Airlines]</td>\n",
       "      <td>5O272</td>\n",
       "      <td>2022-05-02 17:00:00</td>\n",
       "      <td>2022-05-02 20:20:00</td>\n",
       "      <td>140</td>\n",
       "      <td>0</td>\n",
       "      <td>230.0</td>\n",
       "      <td>USD</td>\n",
       "      <td>186000.0</td>\n",
       "      <td>186000.0</td>\n",
       "      <td>0.000000</td>\n",
       "      <td>2022-04-29 17:52:59</td>\n",
       "    </tr>\n",
       "    <tr>\n",
       "      <th>...</th>\n",
       "      <td>...</td>\n",
       "      <td>...</td>\n",
       "      <td>...</td>\n",
       "      <td>...</td>\n",
       "      <td>...</td>\n",
       "      <td>...</td>\n",
       "      <td>...</td>\n",
       "      <td>...</td>\n",
       "      <td>...</td>\n",
       "      <td>...</td>\n",
       "      <td>...</td>\n",
       "      <td>...</td>\n",
       "      <td>...</td>\n",
       "      <td>...</td>\n",
       "      <td>...</td>\n",
       "      <td>...</td>\n",
       "      <td>...</td>\n",
       "      <td>...</td>\n",
       "      <td>...</td>\n",
       "      <td>...</td>\n",
       "    </tr>\n",
       "    <tr>\n",
       "      <th>16228</th>\n",
       "      <td>BOM</td>\n",
       "      <td>Mumbai</td>\n",
       "      <td>India</td>\n",
       "      <td>Bangkok</td>\n",
       "      <td>BKK</td>\n",
       "      <td>Thailand</td>\n",
       "      <td>Airbus A350</td>\n",
       "      <td>TG</td>\n",
       "      <td>[THAI]</td>\n",
       "      <td>TG318</td>\n",
       "      <td>2022-05-01 23:35:00</td>\n",
       "      <td>2022-05-02 05:35:00</td>\n",
       "      <td>270</td>\n",
       "      <td>0</td>\n",
       "      <td>221.0</td>\n",
       "      <td>USD</td>\n",
       "      <td>263000.0</td>\n",
       "      <td>340000.0</td>\n",
       "      <td>-22.647059</td>\n",
       "      <td>2022-04-29 17:52:59</td>\n",
       "    </tr>\n",
       "    <tr>\n",
       "      <th>16229</th>\n",
       "      <td>BOM</td>\n",
       "      <td>Mumbai</td>\n",
       "      <td>India</td>\n",
       "      <td>Bangkok</td>\n",
       "      <td>BKK</td>\n",
       "      <td>Thailand</td>\n",
       "      <td>Airbus A320</td>\n",
       "      <td>G8</td>\n",
       "      <td>[GO FIRST]</td>\n",
       "      <td>G825</td>\n",
       "      <td>2022-05-03 05:50:00</td>\n",
       "      <td>2022-05-03 12:00:00</td>\n",
       "      <td>280</td>\n",
       "      <td>0</td>\n",
       "      <td>110.0</td>\n",
       "      <td>USD</td>\n",
       "      <td>300000.0</td>\n",
       "      <td>340000.0</td>\n",
       "      <td>-11.764706</td>\n",
       "      <td>2022-04-29 17:52:59</td>\n",
       "    </tr>\n",
       "    <tr>\n",
       "      <th>16230</th>\n",
       "      <td>BOM</td>\n",
       "      <td>Mumbai</td>\n",
       "      <td>India</td>\n",
       "      <td>Bangkok</td>\n",
       "      <td>BKK</td>\n",
       "      <td>Thailand</td>\n",
       "      <td>Boeing 777</td>\n",
       "      <td>TG</td>\n",
       "      <td>[THAI]</td>\n",
       "      <td>TG318</td>\n",
       "      <td>2022-05-03 23:35:00</td>\n",
       "      <td>2022-05-04 05:35:00</td>\n",
       "      <td>270</td>\n",
       "      <td>0</td>\n",
       "      <td>191.0</td>\n",
       "      <td>USD</td>\n",
       "      <td>373000.0</td>\n",
       "      <td>340000.0</td>\n",
       "      <td>9.705882</td>\n",
       "      <td>2022-04-29 17:52:59</td>\n",
       "    </tr>\n",
       "    <tr>\n",
       "      <th>16231</th>\n",
       "      <td>BOM</td>\n",
       "      <td>Mumbai</td>\n",
       "      <td>India</td>\n",
       "      <td>Bangkok</td>\n",
       "      <td>BKK</td>\n",
       "      <td>Thailand</td>\n",
       "      <td>Airbus A320</td>\n",
       "      <td>G8</td>\n",
       "      <td>[GO FIRST]</td>\n",
       "      <td>G825</td>\n",
       "      <td>2022-05-07 05:50:00</td>\n",
       "      <td>2022-05-07 12:00:00</td>\n",
       "      <td>280</td>\n",
       "      <td>0</td>\n",
       "      <td>145.0</td>\n",
       "      <td>USD</td>\n",
       "      <td>300000.0</td>\n",
       "      <td>340000.0</td>\n",
       "      <td>-11.764706</td>\n",
       "      <td>2022-04-29 17:52:59</td>\n",
       "    </tr>\n",
       "    <tr>\n",
       "      <th>16232</th>\n",
       "      <td>BOM</td>\n",
       "      <td>Mumbai</td>\n",
       "      <td>India</td>\n",
       "      <td>Bangkok</td>\n",
       "      <td>BKK</td>\n",
       "      <td>Thailand</td>\n",
       "      <td>Airbus A350</td>\n",
       "      <td>TG</td>\n",
       "      <td>[THAI]</td>\n",
       "      <td>TG318</td>\n",
       "      <td>2022-05-07 23:35:00</td>\n",
       "      <td>2022-05-08 05:35:00</td>\n",
       "      <td>270</td>\n",
       "      <td>0</td>\n",
       "      <td>302.0</td>\n",
       "      <td>USD</td>\n",
       "      <td>263000.0</td>\n",
       "      <td>340000.0</td>\n",
       "      <td>-22.647059</td>\n",
       "      <td>2022-04-29 17:52:59</td>\n",
       "    </tr>\n",
       "  </tbody>\n",
       "</table>\n",
       "<p>16233 rows × 20 columns</p>\n",
       "</div>"
      ],
      "text/plain": [
       "      from_airport_code city_of_departure from_country city_of_arrival  \\\n",
       "0                   ALG            Algier      Algeria           Cairo   \n",
       "1                   ALG            Algier      Algeria           Paris   \n",
       "2                   ALG            Algier      Algeria           Cairo   \n",
       "3                   ALG            Algier      Algeria           Paris   \n",
       "4                   ALG            Algier      Algeria           Paris   \n",
       "...                 ...               ...          ...             ...   \n",
       "16228               BOM            Mumbai        India         Bangkok   \n",
       "16229               BOM            Mumbai        India         Bangkok   \n",
       "16230               BOM            Mumbai        India         Bangkok   \n",
       "16231               BOM            Mumbai        India         Bangkok   \n",
       "16232               BOM            Mumbai        India         Bangkok   \n",
       "\n",
       "      dest_airport_code dest_country aircraft_type airline_number  \\\n",
       "0                   CAI        Egypt    Boeing 737             MS   \n",
       "1                   CDG       France    Boeing 737             5O   \n",
       "2                   CAI        Egypt    Boeing 737             MS   \n",
       "3                   CDG       France    Boeing 737             5O   \n",
       "4                   CDG       France    Boeing 737             5O   \n",
       "...                 ...          ...           ...            ...   \n",
       "16228               BKK     Thailand   Airbus A350             TG   \n",
       "16229               BKK     Thailand   Airbus A320             G8   \n",
       "16230               BKK     Thailand    Boeing 777             TG   \n",
       "16231               BKK     Thailand   Airbus A320             G8   \n",
       "16232               BKK     Thailand   Airbus A350             TG   \n",
       "\n",
       "         airline_name flight_number       departure_time         arrival_time  \\\n",
       "0          [EgyptAir]         MS846  2022-05-29 12:55:00  2022-05-29 17:30:00   \n",
       "1      [ASL Airlines]         5O162  2022-04-30 10:20:00  2022-04-30 13:40:00   \n",
       "2          [EgyptAir]         MS846  2022-07-28 12:55:00  2022-07-28 17:30:00   \n",
       "3      [ASL Airlines]         5O162  2022-05-02 10:20:00  2022-05-02 13:40:00   \n",
       "4      [ASL Airlines]         5O272  2022-05-02 17:00:00  2022-05-02 20:20:00   \n",
       "...               ...           ...                  ...                  ...   \n",
       "16228          [THAI]         TG318  2022-05-01 23:35:00  2022-05-02 05:35:00   \n",
       "16229      [GO FIRST]          G825  2022-05-03 05:50:00  2022-05-03 12:00:00   \n",
       "16230          [THAI]         TG318  2022-05-03 23:35:00  2022-05-04 05:35:00   \n",
       "16231      [GO FIRST]          G825  2022-05-07 05:50:00  2022-05-07 12:00:00   \n",
       "16232          [THAI]         TG318  2022-05-07 23:35:00  2022-05-08 05:35:00   \n",
       "\n",
       "       duration_minutes  stops  price currency  co2_emissions  \\\n",
       "0                   215      0  350.0      USD       327000.0   \n",
       "1                   140      0   97.0      USD       210000.0   \n",
       "2                   215      0  350.0      USD       327000.0   \n",
       "3                   140      0  202.0      USD       186000.0   \n",
       "4                   140      0  230.0      USD       186000.0   \n",
       "...                 ...    ...    ...      ...            ...   \n",
       "16228               270      0  221.0      USD       263000.0   \n",
       "16229               280      0  110.0      USD       300000.0   \n",
       "16230               270      0  191.0      USD       373000.0   \n",
       "16231               280      0  145.0      USD       300000.0   \n",
       "16232               270      0  302.0      USD       263000.0   \n",
       "\n",
       "       avg_co2_emission_for_this_route  co2_percentage            scan_date  \n",
       "0                             454000.0      -27.973568  2022-04-29 17:52:59  \n",
       "1                             186000.0       12.903226  2022-04-29 17:52:59  \n",
       "2                             454000.0      -27.973568  2022-04-29 17:52:59  \n",
       "3                             186000.0        0.000000  2022-04-29 17:52:59  \n",
       "4                             186000.0        0.000000  2022-04-29 17:52:59  \n",
       "...                                ...             ...                  ...  \n",
       "16228                         340000.0      -22.647059  2022-04-29 17:52:59  \n",
       "16229                         340000.0      -11.764706  2022-04-29 17:52:59  \n",
       "16230                         340000.0        9.705882  2022-04-29 17:52:59  \n",
       "16231                         340000.0      -11.764706  2022-04-29 17:52:59  \n",
       "16232                         340000.0      -22.647059  2022-04-29 17:52:59  \n",
       "\n",
       "[16233 rows x 20 columns]"
      ]
     },
     "execution_count": 34,
     "metadata": {},
     "output_type": "execute_result"
    }
   ],
   "source": [
    "# Step 1: Identify routes with null values in 'avg_co2_emission_for_this_route'\n",
    "routes_with_null_avg_co2 = df[df['avg_co2_emission_for_this_route'].isnull()]\n",
    "\n",
    "# Step 2: Calculate the average CO2 emissions for these routes\n",
    "route_avg_co2 = routes_with_null_avg_co2.groupby(['from_airport_code', 'dest_airport_code'])['co2_emissions'].mean().reset_index()\n",
    "\n",
    "# Rename the 'co2_emissions' column to 'avg_co2_emission_for_this_route' for direct use\n",
    "route_avg_co2.rename(columns={'co2_emissions': 'avg_co2_emission_for_this_route_new'}, inplace=True)\n",
    "\n",
    "# Step 3: Merge the route averages back into the original DataFrame (df)\n",
    "df = pd.merge(df, route_avg_co2, on=['from_airport_code', 'dest_airport_code'], how='left')\n",
    "\n",
    "# Step 4: Fill the null values in 'avg_co2_emission_for_this_route' with the calculated route averages\n",
    "df['avg_co2_emission_for_this_route'].fillna(df['avg_co2_emission_for_this_route_new'], inplace=True)\n",
    "\n",
    "# Step 5: Recalculate the CO2 percentage based on the filled average CO2 emissions\n",
    "df['co2_percentage'] = (df['co2_emissions'] - df['avg_co2_emission_for_this_route']) / df['avg_co2_emission_for_this_route'] * 100\n",
    "\n",
    "# Drop the temporary 'avg_co2_emission_for_this_route_new' column as it is no longer needed\n",
    "df.drop(columns=['avg_co2_emission_for_this_route_new'], inplace=True)\n",
    "\n",
    "df\n"
   ]
  },
  {
   "cell_type": "markdown",
   "metadata": {},
   "source": [
    "**3.5 - The df_airport_code data frame doesn't include the airport code DOH; therefore, we must manually insert it. This is straightforward because the only null values in the city of arrival column are those related to Doha (DOH).**"
   ]
  },
  {
   "cell_type": "code",
   "execution_count": 35,
   "metadata": {},
   "outputs": [
    {
     "name": "stderr",
     "output_type": "stream",
     "text": [
      "/var/folders/n6/6tdhcx8d7tq5v5rgh8bbvm8c0000gn/T/ipykernel_18704/3493863224.py:1: FutureWarning:\n",
      "\n",
      "A value is trying to be set on a copy of a DataFrame or Series through chained assignment using an inplace method.\n",
      "The behavior will change in pandas 3.0. This inplace method will never work because the intermediate object on which we are setting values always behaves as a copy.\n",
      "\n",
      "For example, when doing 'df[col].method(value, inplace=True)', try using 'df.method({col: value}, inplace=True)' or df[col] = df[col].method(value) instead, to perform the operation inplace on the original object.\n",
      "\n",
      "\n",
      "\n"
     ]
    }
   ],
   "source": [
    "df.city_of_arrival.fillna(\"Doha\", inplace=True)"
   ]
  },
  {
   "cell_type": "markdown",
   "metadata": {},
   "source": [
    "1. Most Pollutant Routes in Summer 2022\n",
    "Analysis: Calculate the total CO2 emissions for each route.\n",
    "Approach: Sum CO2 emissions for all flights on each route, then rank them to find the most polluting routes."
   ]
  },
  {
   "cell_type": "code",
   "execution_count": 36,
   "metadata": {},
   "outputs": [
    {
     "data": {
      "text/html": [
       "<div>\n",
       "<style scoped>\n",
       "    .dataframe tbody tr th:only-of-type {\n",
       "        vertical-align: middle;\n",
       "    }\n",
       "\n",
       "    .dataframe tbody tr th {\n",
       "        vertical-align: top;\n",
       "    }\n",
       "\n",
       "    .dataframe thead th {\n",
       "        text-align: right;\n",
       "    }\n",
       "</style>\n",
       "<table border=\"1\" class=\"dataframe\">\n",
       "  <thead>\n",
       "    <tr style=\"text-align: right;\">\n",
       "      <th></th>\n",
       "      <th>city_of_departure</th>\n",
       "      <th>city_of_arrival</th>\n",
       "      <th>co2_emissions</th>\n",
       "    </tr>\n",
       "  </thead>\n",
       "  <tbody>\n",
       "    <tr>\n",
       "      <th>341</th>\n",
       "      <td>Mumbai</td>\n",
       "      <td>Delhi</td>\n",
       "      <td>51553000.0</td>\n",
       "    </tr>\n",
       "    <tr>\n",
       "      <th>205</th>\n",
       "      <td>Delhi</td>\n",
       "      <td>Mumbai</td>\n",
       "      <td>51475000.0</td>\n",
       "    </tr>\n",
       "    <tr>\n",
       "      <th>336</th>\n",
       "      <td>Melbourne</td>\n",
       "      <td>Sydney</td>\n",
       "      <td>47924000.0</td>\n",
       "    </tr>\n",
       "    <tr>\n",
       "      <th>194</th>\n",
       "      <td>Delhi</td>\n",
       "      <td>Bangalore</td>\n",
       "      <td>47835000.0</td>\n",
       "    </tr>\n",
       "    <tr>\n",
       "      <th>512</th>\n",
       "      <td>Sydney</td>\n",
       "      <td>Melbourne</td>\n",
       "      <td>47484000.0</td>\n",
       "    </tr>\n",
       "    <tr>\n",
       "      <th>78</th>\n",
       "      <td>Bogota</td>\n",
       "      <td>Madrid</td>\n",
       "      <td>42822000.0</td>\n",
       "    </tr>\n",
       "    <tr>\n",
       "      <th>483</th>\n",
       "      <td>Shanghai</td>\n",
       "      <td>Shenzhen</td>\n",
       "      <td>35626000.0</td>\n",
       "    </tr>\n",
       "    <tr>\n",
       "      <th>413</th>\n",
       "      <td>Paris</td>\n",
       "      <td>New York</td>\n",
       "      <td>35385000.0</td>\n",
       "    </tr>\n",
       "    <tr>\n",
       "      <th>515</th>\n",
       "      <td>Sydney</td>\n",
       "      <td>Singapore</td>\n",
       "      <td>33654000.0</td>\n",
       "    </tr>\n",
       "    <tr>\n",
       "      <th>478</th>\n",
       "      <td>Shanghai</td>\n",
       "      <td>Guangzhou</td>\n",
       "      <td>31306000.0</td>\n",
       "    </tr>\n",
       "    <tr>\n",
       "      <th>536</th>\n",
       "      <td>Toronto</td>\n",
       "      <td>London</td>\n",
       "      <td>29254000.0</td>\n",
       "    </tr>\n",
       "    <tr>\n",
       "      <th>404</th>\n",
       "      <td>Paris</td>\n",
       "      <td>Los Angeles</td>\n",
       "      <td>28706000.0</td>\n",
       "    </tr>\n",
       "    <tr>\n",
       "      <th>203</th>\n",
       "      <td>Delhi</td>\n",
       "      <td>London</td>\n",
       "      <td>27603000.0</td>\n",
       "    </tr>\n",
       "    <tr>\n",
       "      <th>475</th>\n",
       "      <td>Shanghai</td>\n",
       "      <td>Beijing</td>\n",
       "      <td>25703000.0</td>\n",
       "    </tr>\n",
       "    <tr>\n",
       "      <th>335</th>\n",
       "      <td>Melbourne</td>\n",
       "      <td>Singapore</td>\n",
       "      <td>25340000.0</td>\n",
       "    </tr>\n",
       "    <tr>\n",
       "      <th>290</th>\n",
       "      <td>Frankfurt</td>\n",
       "      <td>Singapore</td>\n",
       "      <td>24024000.0</td>\n",
       "    </tr>\n",
       "    <tr>\n",
       "      <th>510</th>\n",
       "      <td>Sydney</td>\n",
       "      <td>Los Angeles</td>\n",
       "      <td>23758000.0</td>\n",
       "    </tr>\n",
       "    <tr>\n",
       "      <th>321</th>\n",
       "      <td>Hangzhou</td>\n",
       "      <td>Shenzhen</td>\n",
       "      <td>23704000.0</td>\n",
       "    </tr>\n",
       "    <tr>\n",
       "      <th>279</th>\n",
       "      <td>Frankfurt</td>\n",
       "      <td>New York</td>\n",
       "      <td>23300000.0</td>\n",
       "    </tr>\n",
       "    <tr>\n",
       "      <th>417</th>\n",
       "      <td>Paris</td>\n",
       "      <td>San Francisco</td>\n",
       "      <td>22927000.0</td>\n",
       "    </tr>\n",
       "  </tbody>\n",
       "</table>\n",
       "</div>"
      ],
      "text/plain": [
       "    city_of_departure city_of_arrival  co2_emissions\n",
       "341            Mumbai           Delhi     51553000.0\n",
       "205             Delhi          Mumbai     51475000.0\n",
       "336         Melbourne          Sydney     47924000.0\n",
       "194             Delhi       Bangalore     47835000.0\n",
       "512            Sydney       Melbourne     47484000.0\n",
       "78             Bogota          Madrid     42822000.0\n",
       "483          Shanghai        Shenzhen     35626000.0\n",
       "413             Paris        New York     35385000.0\n",
       "515            Sydney       Singapore     33654000.0\n",
       "478          Shanghai       Guangzhou     31306000.0\n",
       "536           Toronto          London     29254000.0\n",
       "404             Paris     Los Angeles     28706000.0\n",
       "203             Delhi          London     27603000.0\n",
       "475          Shanghai         Beijing     25703000.0\n",
       "335         Melbourne       Singapore     25340000.0\n",
       "290         Frankfurt       Singapore     24024000.0\n",
       "510            Sydney     Los Angeles     23758000.0\n",
       "321          Hangzhou        Shenzhen     23704000.0\n",
       "279         Frankfurt        New York     23300000.0\n",
       "417             Paris   San Francisco     22927000.0"
      ]
     },
     "execution_count": 36,
     "metadata": {},
     "output_type": "execute_result"
    }
   ],
   "source": [
    "# Group by route and sum CO2 emissions\n",
    "pollutant_routes = df.groupby(['city_of_departure', 'city_of_arrival'])['co2_emissions'].sum().reset_index()\n",
    "# Sort by CO2 emissions in descending order\n",
    "pollutant_routes = pollutant_routes.sort_values(by='co2_emissions', ascending=False)\n",
    "# Display the top 20 most pollutant routes\n",
    "top_pollutant_routes = pollutant_routes.head(20)\n",
    "top_pollutant_routes"
   ]
  },
  {
   "cell_type": "code",
   "execution_count": 37,
   "metadata": {},
   "outputs": [
    {
     "data": {
      "application/vnd.plotly.v1+json": {
       "config": {
        "plotlyServerURL": "https://plot.ly"
       },
       "data": [
        {
         "alignmentgroup": "True",
         "hovertemplate": "city_of_arrival=Delhi<br>CO2 Emissions (kg)=%{x}<br>City of Departure=%{y}<extra></extra>",
         "legendgroup": "Delhi",
         "marker": {
          "color": "#636efa",
          "pattern": {
           "shape": ""
          }
         },
         "name": "Delhi",
         "offsetgroup": "Delhi",
         "orientation": "h",
         "showlegend": true,
         "textposition": "auto",
         "type": "bar",
         "x": [
          51553000
         ],
         "xaxis": "x",
         "y": [
          "Mumbai"
         ],
         "yaxis": "y"
        },
        {
         "alignmentgroup": "True",
         "hovertemplate": "city_of_arrival=Mumbai<br>CO2 Emissions (kg)=%{x}<br>City of Departure=%{y}<extra></extra>",
         "legendgroup": "Mumbai",
         "marker": {
          "color": "#EF553B",
          "pattern": {
           "shape": ""
          }
         },
         "name": "Mumbai",
         "offsetgroup": "Mumbai",
         "orientation": "h",
         "showlegend": true,
         "textposition": "auto",
         "type": "bar",
         "x": [
          51475000
         ],
         "xaxis": "x",
         "y": [
          "Delhi"
         ],
         "yaxis": "y"
        },
        {
         "alignmentgroup": "True",
         "hovertemplate": "city_of_arrival=Sydney<br>CO2 Emissions (kg)=%{x}<br>City of Departure=%{y}<extra></extra>",
         "legendgroup": "Sydney",
         "marker": {
          "color": "#00cc96",
          "pattern": {
           "shape": ""
          }
         },
         "name": "Sydney",
         "offsetgroup": "Sydney",
         "orientation": "h",
         "showlegend": true,
         "textposition": "auto",
         "type": "bar",
         "x": [
          47924000
         ],
         "xaxis": "x",
         "y": [
          "Melbourne"
         ],
         "yaxis": "y"
        },
        {
         "alignmentgroup": "True",
         "hovertemplate": "city_of_arrival=Bangalore<br>CO2 Emissions (kg)=%{x}<br>City of Departure=%{y}<extra></extra>",
         "legendgroup": "Bangalore",
         "marker": {
          "color": "#ab63fa",
          "pattern": {
           "shape": ""
          }
         },
         "name": "Bangalore",
         "offsetgroup": "Bangalore",
         "orientation": "h",
         "showlegend": true,
         "textposition": "auto",
         "type": "bar",
         "x": [
          47835000
         ],
         "xaxis": "x",
         "y": [
          "Delhi"
         ],
         "yaxis": "y"
        },
        {
         "alignmentgroup": "True",
         "hovertemplate": "city_of_arrival=Melbourne<br>CO2 Emissions (kg)=%{x}<br>City of Departure=%{y}<extra></extra>",
         "legendgroup": "Melbourne",
         "marker": {
          "color": "#FFA15A",
          "pattern": {
           "shape": ""
          }
         },
         "name": "Melbourne",
         "offsetgroup": "Melbourne",
         "orientation": "h",
         "showlegend": true,
         "textposition": "auto",
         "type": "bar",
         "x": [
          47484000
         ],
         "xaxis": "x",
         "y": [
          "Sydney"
         ],
         "yaxis": "y"
        },
        {
         "alignmentgroup": "True",
         "hovertemplate": "city_of_arrival=Madrid<br>CO2 Emissions (kg)=%{x}<br>City of Departure=%{y}<extra></extra>",
         "legendgroup": "Madrid",
         "marker": {
          "color": "#19d3f3",
          "pattern": {
           "shape": ""
          }
         },
         "name": "Madrid",
         "offsetgroup": "Madrid",
         "orientation": "h",
         "showlegend": true,
         "textposition": "auto",
         "type": "bar",
         "x": [
          42822000
         ],
         "xaxis": "x",
         "y": [
          "Bogota"
         ],
         "yaxis": "y"
        },
        {
         "alignmentgroup": "True",
         "hovertemplate": "city_of_arrival=Shenzhen<br>CO2 Emissions (kg)=%{x}<br>City of Departure=%{y}<extra></extra>",
         "legendgroup": "Shenzhen",
         "marker": {
          "color": "#FF6692",
          "pattern": {
           "shape": ""
          }
         },
         "name": "Shenzhen",
         "offsetgroup": "Shenzhen",
         "orientation": "h",
         "showlegend": true,
         "textposition": "auto",
         "type": "bar",
         "x": [
          35626000,
          23704000
         ],
         "xaxis": "x",
         "y": [
          "Shanghai",
          "Hangzhou"
         ],
         "yaxis": "y"
        },
        {
         "alignmentgroup": "True",
         "hovertemplate": "city_of_arrival=New York<br>CO2 Emissions (kg)=%{x}<br>City of Departure=%{y}<extra></extra>",
         "legendgroup": "New York",
         "marker": {
          "color": "#B6E880",
          "pattern": {
           "shape": ""
          }
         },
         "name": "New York",
         "offsetgroup": "New York",
         "orientation": "h",
         "showlegend": true,
         "textposition": "auto",
         "type": "bar",
         "x": [
          35385000,
          23300000
         ],
         "xaxis": "x",
         "y": [
          "Paris",
          "Frankfurt"
         ],
         "yaxis": "y"
        },
        {
         "alignmentgroup": "True",
         "hovertemplate": "city_of_arrival=Singapore<br>CO2 Emissions (kg)=%{x}<br>City of Departure=%{y}<extra></extra>",
         "legendgroup": "Singapore",
         "marker": {
          "color": "#FF97FF",
          "pattern": {
           "shape": ""
          }
         },
         "name": "Singapore",
         "offsetgroup": "Singapore",
         "orientation": "h",
         "showlegend": true,
         "textposition": "auto",
         "type": "bar",
         "x": [
          33654000,
          25340000,
          24024000
         ],
         "xaxis": "x",
         "y": [
          "Sydney",
          "Melbourne",
          "Frankfurt"
         ],
         "yaxis": "y"
        },
        {
         "alignmentgroup": "True",
         "hovertemplate": "city_of_arrival=Guangzhou<br>CO2 Emissions (kg)=%{x}<br>City of Departure=%{y}<extra></extra>",
         "legendgroup": "Guangzhou",
         "marker": {
          "color": "#FECB52",
          "pattern": {
           "shape": ""
          }
         },
         "name": "Guangzhou",
         "offsetgroup": "Guangzhou",
         "orientation": "h",
         "showlegend": true,
         "textposition": "auto",
         "type": "bar",
         "x": [
          31306000
         ],
         "xaxis": "x",
         "y": [
          "Shanghai"
         ],
         "yaxis": "y"
        },
        {
         "alignmentgroup": "True",
         "hovertemplate": "city_of_arrival=London<br>CO2 Emissions (kg)=%{x}<br>City of Departure=%{y}<extra></extra>",
         "legendgroup": "London",
         "marker": {
          "color": "#636efa",
          "pattern": {
           "shape": ""
          }
         },
         "name": "London",
         "offsetgroup": "London",
         "orientation": "h",
         "showlegend": true,
         "textposition": "auto",
         "type": "bar",
         "x": [
          29254000,
          27603000
         ],
         "xaxis": "x",
         "y": [
          "Toronto",
          "Delhi"
         ],
         "yaxis": "y"
        },
        {
         "alignmentgroup": "True",
         "hovertemplate": "city_of_arrival=Los Angeles<br>CO2 Emissions (kg)=%{x}<br>City of Departure=%{y}<extra></extra>",
         "legendgroup": "Los Angeles",
         "marker": {
          "color": "#EF553B",
          "pattern": {
           "shape": ""
          }
         },
         "name": "Los Angeles",
         "offsetgroup": "Los Angeles",
         "orientation": "h",
         "showlegend": true,
         "textposition": "auto",
         "type": "bar",
         "x": [
          28706000,
          23758000
         ],
         "xaxis": "x",
         "y": [
          "Paris",
          "Sydney"
         ],
         "yaxis": "y"
        },
        {
         "alignmentgroup": "True",
         "hovertemplate": "city_of_arrival=Beijing<br>CO2 Emissions (kg)=%{x}<br>City of Departure=%{y}<extra></extra>",
         "legendgroup": "Beijing",
         "marker": {
          "color": "#00cc96",
          "pattern": {
           "shape": ""
          }
         },
         "name": "Beijing",
         "offsetgroup": "Beijing",
         "orientation": "h",
         "showlegend": true,
         "textposition": "auto",
         "type": "bar",
         "x": [
          25703000
         ],
         "xaxis": "x",
         "y": [
          "Shanghai"
         ],
         "yaxis": "y"
        },
        {
         "alignmentgroup": "True",
         "hovertemplate": "city_of_arrival=San Francisco<br>CO2 Emissions (kg)=%{x}<br>City of Departure=%{y}<extra></extra>",
         "legendgroup": "San Francisco",
         "marker": {
          "color": "#ab63fa",
          "pattern": {
           "shape": ""
          }
         },
         "name": "San Francisco",
         "offsetgroup": "San Francisco",
         "orientation": "h",
         "showlegend": true,
         "textposition": "auto",
         "type": "bar",
         "x": [
          22927000
         ],
         "xaxis": "x",
         "y": [
          "Paris"
         ],
         "yaxis": "y"
        }
       ],
       "layout": {
        "barmode": "relative",
        "height": 600,
        "legend": {
         "title": {
          "text": "city_of_arrival"
         },
         "tracegroupgap": 0
        },
        "template": {
         "data": {
          "bar": [
           {
            "error_x": {
             "color": "#2a3f5f"
            },
            "error_y": {
             "color": "#2a3f5f"
            },
            "marker": {
             "line": {
              "color": "#E5ECF6",
              "width": 0.5
             },
             "pattern": {
              "fillmode": "overlay",
              "size": 10,
              "solidity": 0.2
             }
            },
            "type": "bar"
           }
          ],
          "barpolar": [
           {
            "marker": {
             "line": {
              "color": "#E5ECF6",
              "width": 0.5
             },
             "pattern": {
              "fillmode": "overlay",
              "size": 10,
              "solidity": 0.2
             }
            },
            "type": "barpolar"
           }
          ],
          "carpet": [
           {
            "aaxis": {
             "endlinecolor": "#2a3f5f",
             "gridcolor": "white",
             "linecolor": "white",
             "minorgridcolor": "white",
             "startlinecolor": "#2a3f5f"
            },
            "baxis": {
             "endlinecolor": "#2a3f5f",
             "gridcolor": "white",
             "linecolor": "white",
             "minorgridcolor": "white",
             "startlinecolor": "#2a3f5f"
            },
            "type": "carpet"
           }
          ],
          "choropleth": [
           {
            "colorbar": {
             "outlinewidth": 0,
             "ticks": ""
            },
            "type": "choropleth"
           }
          ],
          "contour": [
           {
            "colorbar": {
             "outlinewidth": 0,
             "ticks": ""
            },
            "colorscale": [
             [
              0,
              "#0d0887"
             ],
             [
              0.1111111111111111,
              "#46039f"
             ],
             [
              0.2222222222222222,
              "#7201a8"
             ],
             [
              0.3333333333333333,
              "#9c179e"
             ],
             [
              0.4444444444444444,
              "#bd3786"
             ],
             [
              0.5555555555555556,
              "#d8576b"
             ],
             [
              0.6666666666666666,
              "#ed7953"
             ],
             [
              0.7777777777777778,
              "#fb9f3a"
             ],
             [
              0.8888888888888888,
              "#fdca26"
             ],
             [
              1,
              "#f0f921"
             ]
            ],
            "type": "contour"
           }
          ],
          "contourcarpet": [
           {
            "colorbar": {
             "outlinewidth": 0,
             "ticks": ""
            },
            "type": "contourcarpet"
           }
          ],
          "heatmap": [
           {
            "colorbar": {
             "outlinewidth": 0,
             "ticks": ""
            },
            "colorscale": [
             [
              0,
              "#0d0887"
             ],
             [
              0.1111111111111111,
              "#46039f"
             ],
             [
              0.2222222222222222,
              "#7201a8"
             ],
             [
              0.3333333333333333,
              "#9c179e"
             ],
             [
              0.4444444444444444,
              "#bd3786"
             ],
             [
              0.5555555555555556,
              "#d8576b"
             ],
             [
              0.6666666666666666,
              "#ed7953"
             ],
             [
              0.7777777777777778,
              "#fb9f3a"
             ],
             [
              0.8888888888888888,
              "#fdca26"
             ],
             [
              1,
              "#f0f921"
             ]
            ],
            "type": "heatmap"
           }
          ],
          "heatmapgl": [
           {
            "colorbar": {
             "outlinewidth": 0,
             "ticks": ""
            },
            "colorscale": [
             [
              0,
              "#0d0887"
             ],
             [
              0.1111111111111111,
              "#46039f"
             ],
             [
              0.2222222222222222,
              "#7201a8"
             ],
             [
              0.3333333333333333,
              "#9c179e"
             ],
             [
              0.4444444444444444,
              "#bd3786"
             ],
             [
              0.5555555555555556,
              "#d8576b"
             ],
             [
              0.6666666666666666,
              "#ed7953"
             ],
             [
              0.7777777777777778,
              "#fb9f3a"
             ],
             [
              0.8888888888888888,
              "#fdca26"
             ],
             [
              1,
              "#f0f921"
             ]
            ],
            "type": "heatmapgl"
           }
          ],
          "histogram": [
           {
            "marker": {
             "pattern": {
              "fillmode": "overlay",
              "size": 10,
              "solidity": 0.2
             }
            },
            "type": "histogram"
           }
          ],
          "histogram2d": [
           {
            "colorbar": {
             "outlinewidth": 0,
             "ticks": ""
            },
            "colorscale": [
             [
              0,
              "#0d0887"
             ],
             [
              0.1111111111111111,
              "#46039f"
             ],
             [
              0.2222222222222222,
              "#7201a8"
             ],
             [
              0.3333333333333333,
              "#9c179e"
             ],
             [
              0.4444444444444444,
              "#bd3786"
             ],
             [
              0.5555555555555556,
              "#d8576b"
             ],
             [
              0.6666666666666666,
              "#ed7953"
             ],
             [
              0.7777777777777778,
              "#fb9f3a"
             ],
             [
              0.8888888888888888,
              "#fdca26"
             ],
             [
              1,
              "#f0f921"
             ]
            ],
            "type": "histogram2d"
           }
          ],
          "histogram2dcontour": [
           {
            "colorbar": {
             "outlinewidth": 0,
             "ticks": ""
            },
            "colorscale": [
             [
              0,
              "#0d0887"
             ],
             [
              0.1111111111111111,
              "#46039f"
             ],
             [
              0.2222222222222222,
              "#7201a8"
             ],
             [
              0.3333333333333333,
              "#9c179e"
             ],
             [
              0.4444444444444444,
              "#bd3786"
             ],
             [
              0.5555555555555556,
              "#d8576b"
             ],
             [
              0.6666666666666666,
              "#ed7953"
             ],
             [
              0.7777777777777778,
              "#fb9f3a"
             ],
             [
              0.8888888888888888,
              "#fdca26"
             ],
             [
              1,
              "#f0f921"
             ]
            ],
            "type": "histogram2dcontour"
           }
          ],
          "mesh3d": [
           {
            "colorbar": {
             "outlinewidth": 0,
             "ticks": ""
            },
            "type": "mesh3d"
           }
          ],
          "parcoords": [
           {
            "line": {
             "colorbar": {
              "outlinewidth": 0,
              "ticks": ""
             }
            },
            "type": "parcoords"
           }
          ],
          "pie": [
           {
            "automargin": true,
            "type": "pie"
           }
          ],
          "scatter": [
           {
            "fillpattern": {
             "fillmode": "overlay",
             "size": 10,
             "solidity": 0.2
            },
            "type": "scatter"
           }
          ],
          "scatter3d": [
           {
            "line": {
             "colorbar": {
              "outlinewidth": 0,
              "ticks": ""
             }
            },
            "marker": {
             "colorbar": {
              "outlinewidth": 0,
              "ticks": ""
             }
            },
            "type": "scatter3d"
           }
          ],
          "scattercarpet": [
           {
            "marker": {
             "colorbar": {
              "outlinewidth": 0,
              "ticks": ""
             }
            },
            "type": "scattercarpet"
           }
          ],
          "scattergeo": [
           {
            "marker": {
             "colorbar": {
              "outlinewidth": 0,
              "ticks": ""
             }
            },
            "type": "scattergeo"
           }
          ],
          "scattergl": [
           {
            "marker": {
             "colorbar": {
              "outlinewidth": 0,
              "ticks": ""
             }
            },
            "type": "scattergl"
           }
          ],
          "scattermapbox": [
           {
            "marker": {
             "colorbar": {
              "outlinewidth": 0,
              "ticks": ""
             }
            },
            "type": "scattermapbox"
           }
          ],
          "scatterpolar": [
           {
            "marker": {
             "colorbar": {
              "outlinewidth": 0,
              "ticks": ""
             }
            },
            "type": "scatterpolar"
           }
          ],
          "scatterpolargl": [
           {
            "marker": {
             "colorbar": {
              "outlinewidth": 0,
              "ticks": ""
             }
            },
            "type": "scatterpolargl"
           }
          ],
          "scatterternary": [
           {
            "marker": {
             "colorbar": {
              "outlinewidth": 0,
              "ticks": ""
             }
            },
            "type": "scatterternary"
           }
          ],
          "surface": [
           {
            "colorbar": {
             "outlinewidth": 0,
             "ticks": ""
            },
            "colorscale": [
             [
              0,
              "#0d0887"
             ],
             [
              0.1111111111111111,
              "#46039f"
             ],
             [
              0.2222222222222222,
              "#7201a8"
             ],
             [
              0.3333333333333333,
              "#9c179e"
             ],
             [
              0.4444444444444444,
              "#bd3786"
             ],
             [
              0.5555555555555556,
              "#d8576b"
             ],
             [
              0.6666666666666666,
              "#ed7953"
             ],
             [
              0.7777777777777778,
              "#fb9f3a"
             ],
             [
              0.8888888888888888,
              "#fdca26"
             ],
             [
              1,
              "#f0f921"
             ]
            ],
            "type": "surface"
           }
          ],
          "table": [
           {
            "cells": {
             "fill": {
              "color": "#EBF0F8"
             },
             "line": {
              "color": "white"
             }
            },
            "header": {
             "fill": {
              "color": "#C8D4E3"
             },
             "line": {
              "color": "white"
             }
            },
            "type": "table"
           }
          ]
         },
         "layout": {
          "annotationdefaults": {
           "arrowcolor": "#2a3f5f",
           "arrowhead": 0,
           "arrowwidth": 1
          },
          "autotypenumbers": "strict",
          "coloraxis": {
           "colorbar": {
            "outlinewidth": 0,
            "ticks": ""
           }
          },
          "colorscale": {
           "diverging": [
            [
             0,
             "#8e0152"
            ],
            [
             0.1,
             "#c51b7d"
            ],
            [
             0.2,
             "#de77ae"
            ],
            [
             0.3,
             "#f1b6da"
            ],
            [
             0.4,
             "#fde0ef"
            ],
            [
             0.5,
             "#f7f7f7"
            ],
            [
             0.6,
             "#e6f5d0"
            ],
            [
             0.7,
             "#b8e186"
            ],
            [
             0.8,
             "#7fbc41"
            ],
            [
             0.9,
             "#4d9221"
            ],
            [
             1,
             "#276419"
            ]
           ],
           "sequential": [
            [
             0,
             "#0d0887"
            ],
            [
             0.1111111111111111,
             "#46039f"
            ],
            [
             0.2222222222222222,
             "#7201a8"
            ],
            [
             0.3333333333333333,
             "#9c179e"
            ],
            [
             0.4444444444444444,
             "#bd3786"
            ],
            [
             0.5555555555555556,
             "#d8576b"
            ],
            [
             0.6666666666666666,
             "#ed7953"
            ],
            [
             0.7777777777777778,
             "#fb9f3a"
            ],
            [
             0.8888888888888888,
             "#fdca26"
            ],
            [
             1,
             "#f0f921"
            ]
           ],
           "sequentialminus": [
            [
             0,
             "#0d0887"
            ],
            [
             0.1111111111111111,
             "#46039f"
            ],
            [
             0.2222222222222222,
             "#7201a8"
            ],
            [
             0.3333333333333333,
             "#9c179e"
            ],
            [
             0.4444444444444444,
             "#bd3786"
            ],
            [
             0.5555555555555556,
             "#d8576b"
            ],
            [
             0.6666666666666666,
             "#ed7953"
            ],
            [
             0.7777777777777778,
             "#fb9f3a"
            ],
            [
             0.8888888888888888,
             "#fdca26"
            ],
            [
             1,
             "#f0f921"
            ]
           ]
          },
          "colorway": [
           "#636efa",
           "#EF553B",
           "#00cc96",
           "#ab63fa",
           "#FFA15A",
           "#19d3f3",
           "#FF6692",
           "#B6E880",
           "#FF97FF",
           "#FECB52"
          ],
          "font": {
           "color": "#2a3f5f"
          },
          "geo": {
           "bgcolor": "white",
           "lakecolor": "white",
           "landcolor": "#E5ECF6",
           "showlakes": true,
           "showland": true,
           "subunitcolor": "white"
          },
          "hoverlabel": {
           "align": "left"
          },
          "hovermode": "closest",
          "mapbox": {
           "style": "light"
          },
          "paper_bgcolor": "white",
          "plot_bgcolor": "#E5ECF6",
          "polar": {
           "angularaxis": {
            "gridcolor": "white",
            "linecolor": "white",
            "ticks": ""
           },
           "bgcolor": "#E5ECF6",
           "radialaxis": {
            "gridcolor": "white",
            "linecolor": "white",
            "ticks": ""
           }
          },
          "scene": {
           "xaxis": {
            "backgroundcolor": "#E5ECF6",
            "gridcolor": "white",
            "gridwidth": 2,
            "linecolor": "white",
            "showbackground": true,
            "ticks": "",
            "zerolinecolor": "white"
           },
           "yaxis": {
            "backgroundcolor": "#E5ECF6",
            "gridcolor": "white",
            "gridwidth": 2,
            "linecolor": "white",
            "showbackground": true,
            "ticks": "",
            "zerolinecolor": "white"
           },
           "zaxis": {
            "backgroundcolor": "#E5ECF6",
            "gridcolor": "white",
            "gridwidth": 2,
            "linecolor": "white",
            "showbackground": true,
            "ticks": "",
            "zerolinecolor": "white"
           }
          },
          "shapedefaults": {
           "line": {
            "color": "#2a3f5f"
           }
          },
          "ternary": {
           "aaxis": {
            "gridcolor": "white",
            "linecolor": "white",
            "ticks": ""
           },
           "baxis": {
            "gridcolor": "white",
            "linecolor": "white",
            "ticks": ""
           },
           "bgcolor": "#E5ECF6",
           "caxis": {
            "gridcolor": "white",
            "linecolor": "white",
            "ticks": ""
           }
          },
          "title": {
           "x": 0.05
          },
          "xaxis": {
           "automargin": true,
           "gridcolor": "white",
           "linecolor": "white",
           "ticks": "",
           "title": {
            "standoff": 15
           },
           "zerolinecolor": "white",
           "zerolinewidth": 2
          },
          "yaxis": {
           "automargin": true,
           "gridcolor": "white",
           "linecolor": "white",
           "ticks": "",
           "title": {
            "standoff": 15
           },
           "zerolinecolor": "white",
           "zerolinewidth": 2
          }
         }
        },
        "title": {
         "text": "Top 20 Most Pollutant Routes by CO2 Emissions"
        },
        "xaxis": {
         "anchor": "y",
         "domain": [
          0,
          1
         ],
         "title": {
          "text": "CO2 Emissions (kg)"
         }
        },
        "yaxis": {
         "anchor": "x",
         "domain": [
          0,
          1
         ],
         "title": {
          "text": "City of Departure"
         }
        }
       }
      }
     },
     "metadata": {},
     "output_type": "display_data"
    }
   ],
   "source": [
    "# Create a bar graph using Plotly\n",
    "fig = px.bar(top_pollutant_routes, \n",
    "             x='co2_emissions', \n",
    "             y='city_of_departure', \n",
    "             color='city_of_arrival', \n",
    "             orientation='h', \n",
    "             title='Top 20 Most Pollutant Routes by CO2 Emissions',\n",
    "             labels={'co2_emissions': 'CO2 Emissions (kg)', 'city_of_departure': 'City of Departure'},\n",
    "             height=600)\n",
    "\n",
    "# Show the plot\n",
    "fig.show()"
   ]
  },
  {
   "cell_type": "markdown",
   "metadata": {},
   "source": [
    "2. Most Polluting Aircraft Types\n",
    "Analysis: Determine CO2 emissions by aircraft type.\n",
    "Approach: Aggregate CO2 emissions by aircraft type and identify which types have the highest emissions."
   ]
  },
  {
   "cell_type": "code",
   "execution_count": 38,
   "metadata": {},
   "outputs": [
    {
     "data": {
      "text/html": [
       "<div>\n",
       "<style scoped>\n",
       "    .dataframe tbody tr th:only-of-type {\n",
       "        vertical-align: middle;\n",
       "    }\n",
       "\n",
       "    .dataframe tbody tr th {\n",
       "        vertical-align: top;\n",
       "    }\n",
       "\n",
       "    .dataframe thead th {\n",
       "        text-align: right;\n",
       "    }\n",
       "</style>\n",
       "<table border=\"1\" class=\"dataframe\">\n",
       "  <thead>\n",
       "    <tr style=\"text-align: right;\">\n",
       "      <th></th>\n",
       "      <th>aircraft_type</th>\n",
       "      <th>co2_emissions</th>\n",
       "    </tr>\n",
       "  </thead>\n",
       "  <tbody>\n",
       "    <tr>\n",
       "      <th>22</th>\n",
       "      <td>Boeing 777</td>\n",
       "      <td>643467000.0</td>\n",
       "    </tr>\n",
       "    <tr>\n",
       "      <th>23</th>\n",
       "      <td>Boeing 787</td>\n",
       "      <td>614378000.0</td>\n",
       "    </tr>\n",
       "    <tr>\n",
       "      <th>5</th>\n",
       "      <td>Airbus A320</td>\n",
       "      <td>561207000.0</td>\n",
       "    </tr>\n",
       "    <tr>\n",
       "      <th>16</th>\n",
       "      <td>Boeing 737</td>\n",
       "      <td>468573000.0</td>\n",
       "    </tr>\n",
       "    <tr>\n",
       "      <th>10</th>\n",
       "      <td>Airbus A330</td>\n",
       "      <td>302245000.0</td>\n",
       "    </tr>\n",
       "    <tr>\n",
       "      <th>7</th>\n",
       "      <td>Airbus A321</td>\n",
       "      <td>270180000.0</td>\n",
       "    </tr>\n",
       "    <tr>\n",
       "      <th>13</th>\n",
       "      <td>Airbus A350</td>\n",
       "      <td>254449000.0</td>\n",
       "    </tr>\n",
       "    <tr>\n",
       "      <th>4</th>\n",
       "      <td>Airbus A319</td>\n",
       "      <td>134919000.0</td>\n",
       "    </tr>\n",
       "    <tr>\n",
       "      <th>14</th>\n",
       "      <td>Airbus A380</td>\n",
       "      <td>122657000.0</td>\n",
       "    </tr>\n",
       "    <tr>\n",
       "      <th>9</th>\n",
       "      <td>Airbus A321neo</td>\n",
       "      <td>110204000.0</td>\n",
       "    </tr>\n",
       "    <tr>\n",
       "      <th>6</th>\n",
       "      <td>Airbus A320neo</td>\n",
       "      <td>107513000.0</td>\n",
       "    </tr>\n",
       "    <tr>\n",
       "      <th>19</th>\n",
       "      <td>Boeing 747</td>\n",
       "      <td>97479000.0</td>\n",
       "    </tr>\n",
       "    <tr>\n",
       "      <th>12</th>\n",
       "      <td>Airbus A340</td>\n",
       "      <td>52551000.0</td>\n",
       "    </tr>\n",
       "    <tr>\n",
       "      <th>21</th>\n",
       "      <td>Boeing 767</td>\n",
       "      <td>43134000.0</td>\n",
       "    </tr>\n",
       "    <tr>\n",
       "      <th>8</th>\n",
       "      <td>Airbus A321 (Sharklets)</td>\n",
       "      <td>39294000.0</td>\n",
       "    </tr>\n",
       "    <tr>\n",
       "      <th>27</th>\n",
       "      <td>Canadair RJ 900</td>\n",
       "      <td>34136000.0</td>\n",
       "    </tr>\n",
       "    <tr>\n",
       "      <th>17</th>\n",
       "      <td>Boeing 737MAX 8 Passenger</td>\n",
       "      <td>31988000.0</td>\n",
       "    </tr>\n",
       "    <tr>\n",
       "      <th>11</th>\n",
       "      <td>Airbus A330-900neo</td>\n",
       "      <td>27462000.0</td>\n",
       "    </tr>\n",
       "    <tr>\n",
       "      <th>33</th>\n",
       "      <td>Embraer 195</td>\n",
       "      <td>23985000.0</td>\n",
       "    </tr>\n",
       "    <tr>\n",
       "      <th>2</th>\n",
       "      <td>Airbus A220-300 Passenger</td>\n",
       "      <td>23680000.0</td>\n",
       "    </tr>\n",
       "  </tbody>\n",
       "</table>\n",
       "</div>"
      ],
      "text/plain": [
       "                aircraft_type  co2_emissions\n",
       "22                 Boeing 777    643467000.0\n",
       "23                 Boeing 787    614378000.0\n",
       "5                 Airbus A320    561207000.0\n",
       "16                 Boeing 737    468573000.0\n",
       "10                Airbus A330    302245000.0\n",
       "7                 Airbus A321    270180000.0\n",
       "13                Airbus A350    254449000.0\n",
       "4                 Airbus A319    134919000.0\n",
       "14                Airbus A380    122657000.0\n",
       "9              Airbus A321neo    110204000.0\n",
       "6              Airbus A320neo    107513000.0\n",
       "19                 Boeing 747     97479000.0\n",
       "12                Airbus A340     52551000.0\n",
       "21                 Boeing 767     43134000.0\n",
       "8     Airbus A321 (Sharklets)     39294000.0\n",
       "27            Canadair RJ 900     34136000.0\n",
       "17  Boeing 737MAX 8 Passenger     31988000.0\n",
       "11         Airbus A330-900neo     27462000.0\n",
       "33                Embraer 195     23985000.0\n",
       "2   Airbus A220-300 Passenger     23680000.0"
      ]
     },
     "metadata": {},
     "output_type": "display_data"
    }
   ],
   "source": [
    "polluting_aircraft = df.groupby('aircraft_type')['co2_emissions'].sum().reset_index()\n",
    "# Sort by CO2 emissions\n",
    "most_polluting_aircraft = polluting_aircraft.sort_values(by='co2_emissions', ascending=False)\n",
    "display(most_polluting_aircraft.head(20))"
   ]
  },
  {
   "cell_type": "markdown",
   "metadata": {},
   "source": [
    "3. Correlation Between Ticket Price and CO2 Emissions\n",
    "Analysis: Explore the relationship between ticket price and CO2 emissions per flight.\n",
    "Approach: Calculate the correlation coefficient between ticket price and CO2 emissions."
   ]
  },
  {
   "cell_type": "code",
   "execution_count": 39,
   "metadata": {},
   "outputs": [
    {
     "name": "stdout",
     "output_type": "stream",
     "text": [
      "Correlation between ticket price and CO2 emissions: 0.7541483326363887\n"
     ]
    }
   ],
   "source": [
    "correlation_price_co2 = df['price'].corr(df['co2_emissions'])\n",
    "print(f\"Correlation between ticket price and CO2 emissions: {correlation_price_co2}\")"
   ]
  },
  {
   "cell_type": "markdown",
   "metadata": {},
   "source": [
    "4. Most Popular Routes\n",
    "Analysis: Identify routes with the highest number of flights.\n",
    "Approach: Count the number of flights for each route and rank them."
   ]
  },
  {
   "cell_type": "code",
   "execution_count": 40,
   "metadata": {},
   "outputs": [
    {
     "data": {
      "text/html": [
       "<div>\n",
       "<style scoped>\n",
       "    .dataframe tbody tr th:only-of-type {\n",
       "        vertical-align: middle;\n",
       "    }\n",
       "\n",
       "    .dataframe tbody tr th {\n",
       "        vertical-align: top;\n",
       "    }\n",
       "\n",
       "    .dataframe thead th {\n",
       "        text-align: right;\n",
       "    }\n",
       "</style>\n",
       "<table border=\"1\" class=\"dataframe\">\n",
       "  <thead>\n",
       "    <tr style=\"text-align: right;\">\n",
       "      <th></th>\n",
       "      <th>from_airport_code</th>\n",
       "      <th>dest_airport_code</th>\n",
       "      <th>num_flights</th>\n",
       "    </tr>\n",
       "  </thead>\n",
       "  <tbody>\n",
       "    <tr>\n",
       "      <th>429</th>\n",
       "      <td>MEL</td>\n",
       "      <td>SYD</td>\n",
       "      <td>488</td>\n",
       "    </tr>\n",
       "    <tr>\n",
       "      <th>533</th>\n",
       "      <td>SYD</td>\n",
       "      <td>MEL</td>\n",
       "      <td>485</td>\n",
       "    </tr>\n",
       "    <tr>\n",
       "      <th>82</th>\n",
       "      <td>BOM</td>\n",
       "      <td>DEL</td>\n",
       "      <td>364</td>\n",
       "    </tr>\n",
       "    <tr>\n",
       "      <th>275</th>\n",
       "      <td>DEL</td>\n",
       "      <td>BOM</td>\n",
       "      <td>364</td>\n",
       "    </tr>\n",
       "    <tr>\n",
       "      <th>274</th>\n",
       "      <td>DEL</td>\n",
       "      <td>BLR</td>\n",
       "      <td>252</td>\n",
       "    </tr>\n",
       "    <tr>\n",
       "      <th>520</th>\n",
       "      <td>SHA</td>\n",
       "      <td>PEK</td>\n",
       "      <td>177</td>\n",
       "    </tr>\n",
       "    <tr>\n",
       "      <th>521</th>\n",
       "      <td>SHA</td>\n",
       "      <td>SZX</td>\n",
       "      <td>175</td>\n",
       "    </tr>\n",
       "    <tr>\n",
       "      <th>415</th>\n",
       "      <td>HGH</td>\n",
       "      <td>SZX</td>\n",
       "      <td>167</td>\n",
       "    </tr>\n",
       "    <tr>\n",
       "      <th>516</th>\n",
       "      <td>SHA</td>\n",
       "      <td>CAN</td>\n",
       "      <td>165</td>\n",
       "    </tr>\n",
       "    <tr>\n",
       "      <th>407</th>\n",
       "      <td>HGH</td>\n",
       "      <td>CAN</td>\n",
       "      <td>157</td>\n",
       "    </tr>\n",
       "  </tbody>\n",
       "</table>\n",
       "</div>"
      ],
      "text/plain": [
       "    from_airport_code dest_airport_code  num_flights\n",
       "429               MEL               SYD          488\n",
       "533               SYD               MEL          485\n",
       "82                BOM               DEL          364\n",
       "275               DEL               BOM          364\n",
       "274               DEL               BLR          252\n",
       "520               SHA               PEK          177\n",
       "521               SHA               SZX          175\n",
       "415               HGH               SZX          167\n",
       "516               SHA               CAN          165\n",
       "407               HGH               CAN          157"
      ]
     },
     "metadata": {},
     "output_type": "display_data"
    }
   ],
   "source": [
    "popular_routes = df.groupby(['from_airport_code', 'dest_airport_code']).size().reset_index(name='num_flights')\n",
    "# Sort by number of flights\n",
    "most_popular_routes = popular_routes.sort_values(by='num_flights', ascending=False)\n",
    "display(most_popular_routes.head(10))"
   ]
  },
  {
   "cell_type": "markdown",
   "metadata": {},
   "source": [
    "5. Shortest and Longest Routes\n",
    "Analysis: Find the routes with the minimum and maximum distances.\n",
    "Approach: Use the distance data to identify the shortest and longest routes."
   ]
  },
  {
   "cell_type": "code",
   "execution_count": 41,
   "metadata": {},
   "outputs": [
    {
     "data": {
      "text/plain": [
       "'Shortest Routes:'"
      ]
     },
     "metadata": {},
     "output_type": "display_data"
    },
    {
     "data": {
      "text/html": [
       "<div>\n",
       "<style scoped>\n",
       "    .dataframe tbody tr th:only-of-type {\n",
       "        vertical-align: middle;\n",
       "    }\n",
       "\n",
       "    .dataframe tbody tr th {\n",
       "        vertical-align: top;\n",
       "    }\n",
       "\n",
       "    .dataframe thead th {\n",
       "        text-align: right;\n",
       "    }\n",
       "</style>\n",
       "<table border=\"1\" class=\"dataframe\">\n",
       "  <thead>\n",
       "    <tr style=\"text-align: right;\">\n",
       "      <th></th>\n",
       "      <th>from_airport_code</th>\n",
       "      <th>city_of_departure</th>\n",
       "      <th>from_country</th>\n",
       "      <th>city_of_arrival</th>\n",
       "      <th>dest_airport_code</th>\n",
       "      <th>dest_country</th>\n",
       "      <th>aircraft_type</th>\n",
       "      <th>airline_number</th>\n",
       "      <th>airline_name</th>\n",
       "      <th>flight_number</th>\n",
       "      <th>departure_time</th>\n",
       "      <th>arrival_time</th>\n",
       "      <th>duration_minutes</th>\n",
       "      <th>stops</th>\n",
       "      <th>price</th>\n",
       "      <th>currency</th>\n",
       "      <th>co2_emissions</th>\n",
       "      <th>avg_co2_emission_for_this_route</th>\n",
       "      <th>co2_percentage</th>\n",
       "      <th>scan_date</th>\n",
       "    </tr>\n",
       "  </thead>\n",
       "  <tbody>\n",
       "    <tr>\n",
       "      <th>13503</th>\n",
       "      <td>FRA</td>\n",
       "      <td>Frankfurt</td>\n",
       "      <td>Germany</td>\n",
       "      <td>Zurich</td>\n",
       "      <td>ZRH</td>\n",
       "      <td>Zurich</td>\n",
       "      <td>Airbus A320</td>\n",
       "      <td>LH</td>\n",
       "      <td>[Lufthansa]</td>\n",
       "      <td>LH1196</td>\n",
       "      <td>2022-08-28 16:25:00</td>\n",
       "      <td>2022-08-28 17:20:00</td>\n",
       "      <td>55</td>\n",
       "      <td>0</td>\n",
       "      <td>155.0</td>\n",
       "      <td>USD</td>\n",
       "      <td>55000.0</td>\n",
       "      <td>65000.0</td>\n",
       "      <td>-15.384615</td>\n",
       "      <td>2022-04-29 17:52:59</td>\n",
       "    </tr>\n",
       "    <tr>\n",
       "      <th>9605</th>\n",
       "      <td>DUB</td>\n",
       "      <td>Dublin</td>\n",
       "      <td>Dublin</td>\n",
       "      <td>Manchester</td>\n",
       "      <td>MAN</td>\n",
       "      <td>United Kingdom</td>\n",
       "      <td>Boeing 737MAX 8 Passenger</td>\n",
       "      <td>FR</td>\n",
       "      <td>[Ryanair]</td>\n",
       "      <td>FR1556</td>\n",
       "      <td>2022-05-30 17:15:00</td>\n",
       "      <td>2022-05-30 18:10:00</td>\n",
       "      <td>55</td>\n",
       "      <td>0</td>\n",
       "      <td>14.0</td>\n",
       "      <td>USD</td>\n",
       "      <td>46000.0</td>\n",
       "      <td>53000.0</td>\n",
       "      <td>-13.207547</td>\n",
       "      <td>2022-04-29 17:52:59</td>\n",
       "    </tr>\n",
       "    <tr>\n",
       "      <th>9604</th>\n",
       "      <td>DUB</td>\n",
       "      <td>Dublin</td>\n",
       "      <td>Dublin</td>\n",
       "      <td>Manchester</td>\n",
       "      <td>MAN</td>\n",
       "      <td>United Kingdom</td>\n",
       "      <td>Boeing 737</td>\n",
       "      <td>FR</td>\n",
       "      <td>[Ryanair]</td>\n",
       "      <td>FR562</td>\n",
       "      <td>2022-05-30 13:50:00</td>\n",
       "      <td>2022-05-30 14:45:00</td>\n",
       "      <td>55</td>\n",
       "      <td>0</td>\n",
       "      <td>14.0</td>\n",
       "      <td>USD</td>\n",
       "      <td>53000.0</td>\n",
       "      <td>53000.0</td>\n",
       "      <td>0.000000</td>\n",
       "      <td>2022-04-29 17:52:59</td>\n",
       "    </tr>\n",
       "    <tr>\n",
       "      <th>12407</th>\n",
       "      <td>FRA</td>\n",
       "      <td>Frankfurt</td>\n",
       "      <td>Germany</td>\n",
       "      <td>Brussels</td>\n",
       "      <td>BRU</td>\n",
       "      <td>Belgium</td>\n",
       "      <td>Airbus A321</td>\n",
       "      <td>LH</td>\n",
       "      <td>[Lufthansa]</td>\n",
       "      <td>LH1016</td>\n",
       "      <td>2022-07-29 16:25:00</td>\n",
       "      <td>2022-07-29 17:20:00</td>\n",
       "      <td>55</td>\n",
       "      <td>0</td>\n",
       "      <td>88.0</td>\n",
       "      <td>USD</td>\n",
       "      <td>61000.0</td>\n",
       "      <td>61000.0</td>\n",
       "      <td>0.000000</td>\n",
       "      <td>2022-04-29 17:52:59</td>\n",
       "    </tr>\n",
       "    <tr>\n",
       "      <th>12726</th>\n",
       "      <td>FRA</td>\n",
       "      <td>Frankfurt</td>\n",
       "      <td>Germany</td>\n",
       "      <td>Munich</td>\n",
       "      <td>MUC</td>\n",
       "      <td>Germany</td>\n",
       "      <td>Airbus A321</td>\n",
       "      <td>LH</td>\n",
       "      <td>[Lufthansa]</td>\n",
       "      <td>LH98</td>\n",
       "      <td>2022-05-15 09:15:00</td>\n",
       "      <td>2022-05-15 10:10:00</td>\n",
       "      <td>55</td>\n",
       "      <td>0</td>\n",
       "      <td>106.0</td>\n",
       "      <td>USD</td>\n",
       "      <td>60000.0</td>\n",
       "      <td>60000.0</td>\n",
       "      <td>0.000000</td>\n",
       "      <td>2022-04-29 17:52:59</td>\n",
       "    </tr>\n",
       "  </tbody>\n",
       "</table>\n",
       "</div>"
      ],
      "text/plain": [
       "      from_airport_code city_of_departure from_country city_of_arrival  \\\n",
       "13503               FRA         Frankfurt      Germany          Zurich   \n",
       "9605                DUB            Dublin       Dublin      Manchester   \n",
       "9604                DUB            Dublin       Dublin      Manchester   \n",
       "12407               FRA         Frankfurt      Germany        Brussels   \n",
       "12726               FRA         Frankfurt      Germany          Munich   \n",
       "\n",
       "      dest_airport_code    dest_country              aircraft_type  \\\n",
       "13503               ZRH          Zurich                Airbus A320   \n",
       "9605                MAN  United Kingdom  Boeing 737MAX 8 Passenger   \n",
       "9604                MAN  United Kingdom                 Boeing 737   \n",
       "12407               BRU         Belgium                Airbus A321   \n",
       "12726               MUC         Germany                Airbus A321   \n",
       "\n",
       "      airline_number airline_name flight_number       departure_time  \\\n",
       "13503             LH  [Lufthansa]        LH1196  2022-08-28 16:25:00   \n",
       "9605              FR    [Ryanair]        FR1556  2022-05-30 17:15:00   \n",
       "9604              FR    [Ryanair]         FR562  2022-05-30 13:50:00   \n",
       "12407             LH  [Lufthansa]        LH1016  2022-07-29 16:25:00   \n",
       "12726             LH  [Lufthansa]          LH98  2022-05-15 09:15:00   \n",
       "\n",
       "              arrival_time  duration_minutes  stops  price currency  \\\n",
       "13503  2022-08-28 17:20:00                55      0  155.0      USD   \n",
       "9605   2022-05-30 18:10:00                55      0   14.0      USD   \n",
       "9604   2022-05-30 14:45:00                55      0   14.0      USD   \n",
       "12407  2022-07-29 17:20:00                55      0   88.0      USD   \n",
       "12726  2022-05-15 10:10:00                55      0  106.0      USD   \n",
       "\n",
       "       co2_emissions  avg_co2_emission_for_this_route  co2_percentage  \\\n",
       "13503        55000.0                          65000.0      -15.384615   \n",
       "9605         46000.0                          53000.0      -13.207547   \n",
       "9604         53000.0                          53000.0        0.000000   \n",
       "12407        61000.0                          61000.0        0.000000   \n",
       "12726        60000.0                          60000.0        0.000000   \n",
       "\n",
       "                 scan_date  \n",
       "13503  2022-04-29 17:52:59  \n",
       "9605   2022-04-29 17:52:59  \n",
       "9604   2022-04-29 17:52:59  \n",
       "12407  2022-04-29 17:52:59  \n",
       "12726  2022-04-29 17:52:59  "
      ]
     },
     "metadata": {},
     "output_type": "display_data"
    },
    {
     "data": {
      "text/plain": [
       "'Longest Routes:'"
      ]
     },
     "metadata": {},
     "output_type": "display_data"
    },
    {
     "data": {
      "text/html": [
       "<div>\n",
       "<style scoped>\n",
       "    .dataframe tbody tr th:only-of-type {\n",
       "        vertical-align: middle;\n",
       "    }\n",
       "\n",
       "    .dataframe tbody tr th {\n",
       "        vertical-align: top;\n",
       "    }\n",
       "\n",
       "    .dataframe thead th {\n",
       "        text-align: right;\n",
       "    }\n",
       "</style>\n",
       "<table border=\"1\" class=\"dataframe\">\n",
       "  <thead>\n",
       "    <tr style=\"text-align: right;\">\n",
       "      <th></th>\n",
       "      <th>from_airport_code</th>\n",
       "      <th>city_of_departure</th>\n",
       "      <th>from_country</th>\n",
       "      <th>city_of_arrival</th>\n",
       "      <th>dest_airport_code</th>\n",
       "      <th>dest_country</th>\n",
       "      <th>aircraft_type</th>\n",
       "      <th>airline_number</th>\n",
       "      <th>airline_name</th>\n",
       "      <th>flight_number</th>\n",
       "      <th>departure_time</th>\n",
       "      <th>arrival_time</th>\n",
       "      <th>duration_minutes</th>\n",
       "      <th>stops</th>\n",
       "      <th>price</th>\n",
       "      <th>currency</th>\n",
       "      <th>co2_emissions</th>\n",
       "      <th>avg_co2_emission_for_this_route</th>\n",
       "      <th>co2_percentage</th>\n",
       "      <th>scan_date</th>\n",
       "    </tr>\n",
       "  </thead>\n",
       "  <tbody>\n",
       "    <tr>\n",
       "      <th>16210</th>\n",
       "      <td>DEL</td>\n",
       "      <td>Delhi</td>\n",
       "      <td>India</td>\n",
       "      <td>Chicago</td>\n",
       "      <td>ORD</td>\n",
       "      <td>United States</td>\n",
       "      <td>Boeing 787</td>\n",
       "      <td>UA</td>\n",
       "      <td>[United]</td>\n",
       "      <td>UA713</td>\n",
       "      <td>2022-05-07 01:55:00</td>\n",
       "      <td>2022-05-07 08:40:00</td>\n",
       "      <td>1035</td>\n",
       "      <td>0</td>\n",
       "      <td>1836.0</td>\n",
       "      <td>USD</td>\n",
       "      <td>1062000.0</td>\n",
       "      <td>1324000.0</td>\n",
       "      <td>-19.788520</td>\n",
       "      <td>2022-04-29 17:52:59</td>\n",
       "    </tr>\n",
       "    <tr>\n",
       "      <th>16218</th>\n",
       "      <td>DEL</td>\n",
       "      <td>Delhi</td>\n",
       "      <td>India</td>\n",
       "      <td>Chicago</td>\n",
       "      <td>ORD</td>\n",
       "      <td>United States</td>\n",
       "      <td>Boeing 787</td>\n",
       "      <td>UA</td>\n",
       "      <td>[United]</td>\n",
       "      <td>UA713</td>\n",
       "      <td>2022-08-28 01:55:00</td>\n",
       "      <td>2022-08-28 08:40:00</td>\n",
       "      <td>1035</td>\n",
       "      <td>0</td>\n",
       "      <td>1374.0</td>\n",
       "      <td>USD</td>\n",
       "      <td>1022000.0</td>\n",
       "      <td>1324000.0</td>\n",
       "      <td>-22.809668</td>\n",
       "      <td>2022-04-29 17:52:59</td>\n",
       "    </tr>\n",
       "    <tr>\n",
       "      <th>16214</th>\n",
       "      <td>DEL</td>\n",
       "      <td>Delhi</td>\n",
       "      <td>India</td>\n",
       "      <td>Chicago</td>\n",
       "      <td>ORD</td>\n",
       "      <td>United States</td>\n",
       "      <td>Boeing 787</td>\n",
       "      <td>UA</td>\n",
       "      <td>[United]</td>\n",
       "      <td>UA713</td>\n",
       "      <td>2022-05-30 01:55:00</td>\n",
       "      <td>2022-05-30 08:40:00</td>\n",
       "      <td>1035</td>\n",
       "      <td>0</td>\n",
       "      <td>1278.0</td>\n",
       "      <td>USD</td>\n",
       "      <td>1062000.0</td>\n",
       "      <td>1324000.0</td>\n",
       "      <td>-19.788520</td>\n",
       "      <td>2022-04-29 17:52:59</td>\n",
       "    </tr>\n",
       "    <tr>\n",
       "      <th>16216</th>\n",
       "      <td>DEL</td>\n",
       "      <td>Delhi</td>\n",
       "      <td>India</td>\n",
       "      <td>Chicago</td>\n",
       "      <td>ORD</td>\n",
       "      <td>United States</td>\n",
       "      <td>Boeing 787</td>\n",
       "      <td>UA</td>\n",
       "      <td>[United]</td>\n",
       "      <td>UA713</td>\n",
       "      <td>2022-07-29 01:55:00</td>\n",
       "      <td>2022-07-29 08:40:00</td>\n",
       "      <td>1035</td>\n",
       "      <td>0</td>\n",
       "      <td>1836.0</td>\n",
       "      <td>USD</td>\n",
       "      <td>1022000.0</td>\n",
       "      <td>1324000.0</td>\n",
       "      <td>-22.809668</td>\n",
       "      <td>2022-04-29 17:52:59</td>\n",
       "    </tr>\n",
       "    <tr>\n",
       "      <th>16207</th>\n",
       "      <td>DEL</td>\n",
       "      <td>Delhi</td>\n",
       "      <td>India</td>\n",
       "      <td>Chicago</td>\n",
       "      <td>ORD</td>\n",
       "      <td>United States</td>\n",
       "      <td>Boeing 787</td>\n",
       "      <td>UA</td>\n",
       "      <td>[United]</td>\n",
       "      <td>UA713</td>\n",
       "      <td>2022-05-01 01:55:00</td>\n",
       "      <td>2022-05-01 08:40:00</td>\n",
       "      <td>1035</td>\n",
       "      <td>0</td>\n",
       "      <td>1374.0</td>\n",
       "      <td>USD</td>\n",
       "      <td>1062000.0</td>\n",
       "      <td>1324000.0</td>\n",
       "      <td>-19.788520</td>\n",
       "      <td>2022-04-29 17:52:59</td>\n",
       "    </tr>\n",
       "  </tbody>\n",
       "</table>\n",
       "</div>"
      ],
      "text/plain": [
       "      from_airport_code city_of_departure from_country city_of_arrival  \\\n",
       "16210               DEL             Delhi        India         Chicago   \n",
       "16218               DEL             Delhi        India         Chicago   \n",
       "16214               DEL             Delhi        India         Chicago   \n",
       "16216               DEL             Delhi        India         Chicago   \n",
       "16207               DEL             Delhi        India         Chicago   \n",
       "\n",
       "      dest_airport_code   dest_country aircraft_type airline_number  \\\n",
       "16210               ORD  United States    Boeing 787             UA   \n",
       "16218               ORD  United States    Boeing 787             UA   \n",
       "16214               ORD  United States    Boeing 787             UA   \n",
       "16216               ORD  United States    Boeing 787             UA   \n",
       "16207               ORD  United States    Boeing 787             UA   \n",
       "\n",
       "      airline_name flight_number       departure_time         arrival_time  \\\n",
       "16210     [United]         UA713  2022-05-07 01:55:00  2022-05-07 08:40:00   \n",
       "16218     [United]         UA713  2022-08-28 01:55:00  2022-08-28 08:40:00   \n",
       "16214     [United]         UA713  2022-05-30 01:55:00  2022-05-30 08:40:00   \n",
       "16216     [United]         UA713  2022-07-29 01:55:00  2022-07-29 08:40:00   \n",
       "16207     [United]         UA713  2022-05-01 01:55:00  2022-05-01 08:40:00   \n",
       "\n",
       "       duration_minutes  stops   price currency  co2_emissions  \\\n",
       "16210              1035      0  1836.0      USD      1062000.0   \n",
       "16218              1035      0  1374.0      USD      1022000.0   \n",
       "16214              1035      0  1278.0      USD      1062000.0   \n",
       "16216              1035      0  1836.0      USD      1022000.0   \n",
       "16207              1035      0  1374.0      USD      1062000.0   \n",
       "\n",
       "       avg_co2_emission_for_this_route  co2_percentage            scan_date  \n",
       "16210                        1324000.0      -19.788520  2022-04-29 17:52:59  \n",
       "16218                        1324000.0      -22.809668  2022-04-29 17:52:59  \n",
       "16214                        1324000.0      -19.788520  2022-04-29 17:52:59  \n",
       "16216                        1324000.0      -22.809668  2022-04-29 17:52:59  \n",
       "16207                        1324000.0      -19.788520  2022-04-29 17:52:59  "
      ]
     },
     "metadata": {},
     "output_type": "display_data"
    }
   ],
   "source": [
    "shortest_routes = df.sort_values(by='duration_minutes').head()\n",
    "longest_routes = df.sort_values(by='duration_minutes', ascending=False).head()\n",
    "display(\"Shortest Routes:\", shortest_routes)\n",
    "display(\"Longest Routes:\", longest_routes)"
   ]
  },
  {
   "cell_type": "markdown",
   "metadata": {},
   "source": [
    "6. Correlation Between Price and Distance\n",
    "Analysis: Examine how ticket prices vary with distance.\n",
    "Approach: Calculate the correlation coefficient between ticket price and distance traveled."
   ]
  },
  {
   "cell_type": "code",
   "execution_count": 42,
   "metadata": {},
   "outputs": [
    {
     "name": "stdout",
     "output_type": "stream",
     "text": [
      "Correlation between ticket price and time travelled: 0.7111856736829579\n"
     ]
    }
   ],
   "source": [
    "correlation_price_stops = df['price'].corr(df['duration_minutes'])\n",
    "print(f\"Correlation between ticket price and time travelled: {correlation_price_stops}\")"
   ]
  },
  {
   "cell_type": "markdown",
   "metadata": {},
   "source": [
    "8. Fuel Consumption by Plane Type\n",
    "Additional Data Required: Find a dataset that provides fuel consumption rates for different aircraft types.\n",
    "Analysis: Combine fuel consumption data with distance traveled to calculate fuel efficiency and emissions.\n",
    "Approach: Use the additional fuel consumption data to calculate the fuel consumption for each flight based on its aircraft type and distance, then analyze the results.\n",
    "Additional Suggestions for Analysis:\n",
    "\n"
   ]
  },
  {
   "cell_type": "markdown",
   "metadata": {},
   "source": [
    "9. CO2 Emissions by Airline Analysis: Compare the CO2 emissions of different airlines. Approach: Aggregate CO2 emissions data by airline and analyze their relative environmental impact.\n",
    "\n"
   ]
  },
  {
   "cell_type": "markdown",
   "metadata": {},
   "source": [
    "10. CO2 Emissions by Airport\n",
    "\n",
    "Analysis: Assess the total CO2 emissions associated with each airport.\n",
    "Approach: Sum the CO2 emissions for all departures and arrivals at each airport."
   ]
  },
  {
   "cell_type": "code",
   "execution_count": 43,
   "metadata": {},
   "outputs": [
    {
     "ename": "TypeError",
     "evalue": "'module' object is not callable",
     "output_type": "error",
     "traceback": [
      "\u001b[0;31m---------------------------------------------------------------------------\u001b[0m",
      "\u001b[0;31mTypeError\u001b[0m                                 Traceback (most recent call last)",
      "Cell \u001b[0;32mIn[43], line 17\u001b[0m\n\u001b[1;32m     15\u001b[0m top_airports \u001b[38;5;241m=\u001b[39m pivot_table\u001b[38;5;241m.\u001b[39mnlargest(\u001b[38;5;241m15\u001b[39m, \u001b[38;5;124m'\u001b[39m\u001b[38;5;124mco2_emissions\u001b[39m\u001b[38;5;124m'\u001b[39m)\n\u001b[1;32m     16\u001b[0m \u001b[38;5;66;03m# Create the bar plot using Seaborn\u001b[39;00m\n\u001b[0;32m---> 17\u001b[0m \u001b[43mplt\u001b[49m\u001b[38;5;241;43m.\u001b[39;49m\u001b[43mfigure\u001b[49m\u001b[43m(\u001b[49m\u001b[43mfigsize\u001b[49m\u001b[38;5;241;43m=\u001b[39;49m\u001b[43m(\u001b[49m\u001b[38;5;241;43m12\u001b[39;49m\u001b[43m,\u001b[49m\u001b[43m \u001b[49m\u001b[38;5;241;43m8\u001b[39;49m\u001b[43m)\u001b[49m\u001b[43m)\u001b[49m\n\u001b[1;32m     18\u001b[0m sns\u001b[38;5;241m.\u001b[39mbarplot(x\u001b[38;5;241m=\u001b[39m\u001b[38;5;124m'\u001b[39m\u001b[38;5;124mairport\u001b[39m\u001b[38;5;124m'\u001b[39m, y\u001b[38;5;241m=\u001b[39m\u001b[38;5;124m'\u001b[39m\u001b[38;5;124mco2_emissions\u001b[39m\u001b[38;5;124m'\u001b[39m, data\u001b[38;5;241m=\u001b[39mtop_airports, palette\u001b[38;5;241m=\u001b[39m\u001b[38;5;124m'\u001b[39m\u001b[38;5;124mviridis\u001b[39m\u001b[38;5;124m'\u001b[39m)\n\u001b[1;32m     19\u001b[0m \u001b[38;5;66;03m# Customize the plot\u001b[39;00m\n",
      "\u001b[0;31mTypeError\u001b[0m: 'module' object is not callable"
     ]
    }
   ],
   "source": [
    "# Create separate dataframes for departures and arrivals with an indicator column\n",
    "departures = df[['from_airport_code', 'co2_emissions']].copy()\n",
    "departures['type'] = 'departure'\n",
    "departures.columns = ['airport', 'co2_emissions', 'type']\n",
    "arrivals = df[['dest_airport_code', 'co2_emissions']].copy()\n",
    "arrivals['type'] = 'arrival'\n",
    "arrivals.columns = ['airport', 'co2_emissions', 'type']\n",
    "# Concatenate the departures and arrivals dataframes\n",
    "combined_data = pd.concat([departures, arrivals])\n",
    "# Create a pivot table to sum CO2 emissions for each airport\n",
    "pivot_table = pd.pivot_table(combined_data, values='co2_emissions', index='airport', aggfunc='sum').reset_index()\n",
    "# Sort by total CO2 emissions\n",
    "pivot_table = pivot_table.sort_values(by='co2_emissions', ascending=False)\n",
    "# Sort by total CO2 emissions and select top 10 airports\n",
    "top_airports = pivot_table.nlargest(15, 'co2_emissions')\n",
    "# Create the bar plot using Seaborn\n",
    "plt.figure(figsize=(12, 8))\n",
    "sns.barplot(x='airport', y='co2_emissions', data=top_airports, palette='viridis')\n",
    "# Customize the plot\n",
    "plt.title('Top 10 Airports by Total CO2 Emissions')\n",
    "plt.xlabel('Airport')\n",
    "plt.ylabel('Total CO2 Emissions')\n",
    "# Rotate x-axis labels for better readability if needed\n",
    "plt.xticks(rotation=45, ha='right')\n",
    "# Show plot\n",
    "plt.tight_layout()\n",
    "plt.show()\n"
   ]
  },
  {
   "cell_type": "code",
   "execution_count": null,
   "metadata": {},
   "outputs": [],
   "source": [
    "import plotly.express as px\n",
    "fig = px.bar(pivot_table.head(15), x='airport', y='co2_emissions', \n",
    "             title='Top 10 Airports by Total CO2 Emissions',\n",
    "             labels={'co2_emissions': 'Total CO2 Emissions', 'airport': 'Airport'},\n",
    "             text='co2_emissions',\n",
    "             color='co2_emissions')\n",
    "# Customize the chart layout\n",
    "fig.update_layout(\n",
    "    title='Top 10 Airports by Total CO2 Emissions',\n",
    "    xaxis_title='Airport',\n",
    "    yaxis_title='Total CO2 Emissions',\n",
    "    uniformtext_minsize=8, uniformtext_mode='hide'\n",
    ")\n",
    "# Display the bar chart\n",
    "fig.show()"
   ]
  }
 ],
 "metadata": {
  "kernelspec": {
   "display_name": "sky_track_2022",
   "language": "python",
   "name": "python3"
  },
  "language_info": {
   "codemirror_mode": {
    "name": "ipython",
    "version": 3
   },
   "file_extension": ".py",
   "mimetype": "text/x-python",
   "name": "python",
   "nbconvert_exporter": "python",
   "pygments_lexer": "ipython3",
   "version": "3.12.4"
  }
 },
 "nbformat": 4,
 "nbformat_minor": 2
}
