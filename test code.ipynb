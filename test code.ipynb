{
 "cells": [
  {
   "cell_type": "code",
   "execution_count": null,
   "metadata": {},
   "outputs": [],
   "source": [
    "#from pyopensky import OpenSkyApi\n"
   ]
  },
  {
   "cell_type": "code",
   "execution_count": 5,
   "metadata": {},
   "outputs": [
    {
     "name": "stdout",
     "output_type": "stream",
     "text": [
      "Requirement already satisfied: pyopensky in c:\\users\\dalre\\anaconda3\\lib\\site-packages (2.7)\n",
      "Requirement already satisfied: appdirs>=1.4.4 in c:\\users\\dalre\\anaconda3\\lib\\site-packages (from pyopensky) (1.4.4)\n",
      "Requirement already satisfied: minio>=7.1 in c:\\users\\dalre\\anaconda3\\lib\\site-packages (from pyopensky) (7.2.7)\n",
      "Requirement already satisfied: pandas>=1.5 in c:\\users\\dalre\\anaconda3\\lib\\site-packages (from pyopensky) (2.1.4)\n",
      "Requirement already satisfied: paramiko>=2.7 in c:\\users\\dalre\\anaconda3\\lib\\site-packages (from pyopensky) (2.8.1)\n",
      "Requirement already satisfied: pyarrow>=11.0.0 in c:\\users\\dalre\\anaconda3\\lib\\site-packages (from pyopensky) (14.0.2)\n",
      "Requirement already satisfied: pyjwt>=2.7.0 in c:\\users\\dalre\\anaconda3\\lib\\site-packages (from pyopensky) (2.8.0)\n",
      "Requirement already satisfied: tqdm>=4.65.0 in c:\\users\\dalre\\anaconda3\\lib\\site-packages (from pyopensky) (4.65.0)\n",
      "Requirement already satisfied: trino>=0.322 in c:\\users\\dalre\\anaconda3\\lib\\site-packages (from trino[sqlalchemy]>=0.322->pyopensky) (0.329.0)\n",
      "Requirement already satisfied: typing-extensions>=4.5.0 in c:\\users\\dalre\\anaconda3\\lib\\site-packages (from pyopensky) (4.9.0)\n",
      "Requirement already satisfied: certifi in c:\\users\\dalre\\anaconda3\\lib\\site-packages (from minio>=7.1->pyopensky) (2024.6.2)\n",
      "Requirement already satisfied: urllib3 in c:\\users\\dalre\\anaconda3\\lib\\site-packages (from minio>=7.1->pyopensky) (2.0.7)\n",
      "Requirement already satisfied: argon2-cffi in c:\\users\\dalre\\anaconda3\\lib\\site-packages (from minio>=7.1->pyopensky) (21.3.0)\n",
      "Requirement already satisfied: pycryptodome in c:\\users\\dalre\\anaconda3\\lib\\site-packages (from minio>=7.1->pyopensky) (3.20.0)\n",
      "Requirement already satisfied: numpy<2,>=1.23.2 in c:\\users\\dalre\\anaconda3\\lib\\site-packages (from pandas>=1.5->pyopensky) (1.26.4)\n",
      "Requirement already satisfied: python-dateutil>=2.8.2 in c:\\users\\dalre\\anaconda3\\lib\\site-packages (from pandas>=1.5->pyopensky) (2.8.2)\n",
      "Requirement already satisfied: pytz>=2020.1 in c:\\users\\dalre\\anaconda3\\lib\\site-packages (from pandas>=1.5->pyopensky) (2023.3.post1)\n",
      "Requirement already satisfied: tzdata>=2022.1 in c:\\users\\dalre\\anaconda3\\lib\\site-packages (from pandas>=1.5->pyopensky) (2023.3)\n",
      "Requirement already satisfied: bcrypt>=3.1.3 in c:\\users\\dalre\\anaconda3\\lib\\site-packages (from paramiko>=2.7->pyopensky) (3.2.0)\n",
      "Requirement already satisfied: cryptography>=2.5 in c:\\users\\dalre\\anaconda3\\lib\\site-packages (from paramiko>=2.7->pyopensky) (42.0.2)\n",
      "Requirement already satisfied: pynacl>=1.0.1 in c:\\users\\dalre\\anaconda3\\lib\\site-packages (from paramiko>=2.7->pyopensky) (1.5.0)\n",
      "Requirement already satisfied: colorama in c:\\users\\dalre\\anaconda3\\lib\\site-packages (from tqdm>=4.65.0->pyopensky) (0.4.6)\n",
      "Requirement already satisfied: requests>=2.31.0 in c:\\users\\dalre\\anaconda3\\lib\\site-packages (from trino>=0.322->trino[sqlalchemy]>=0.322->pyopensky) (2.32.2)\n",
      "Requirement already satisfied: tzlocal in c:\\users\\dalre\\anaconda3\\lib\\site-packages (from trino>=0.322->trino[sqlalchemy]>=0.322->pyopensky) (2.1)\n",
      "Requirement already satisfied: sqlalchemy>=1.3 in c:\\users\\dalre\\anaconda3\\lib\\site-packages (from trino[sqlalchemy]>=0.322->pyopensky) (2.0.25)\n",
      "Requirement already satisfied: cffi>=1.1 in c:\\users\\dalre\\anaconda3\\lib\\site-packages (from bcrypt>=3.1.3->paramiko>=2.7->pyopensky) (1.16.0)\n",
      "Requirement already satisfied: six>=1.4.1 in c:\\users\\dalre\\anaconda3\\lib\\site-packages (from bcrypt>=3.1.3->paramiko>=2.7->pyopensky) (1.16.0)\n",
      "Requirement already satisfied: charset-normalizer<4,>=2 in c:\\users\\dalre\\anaconda3\\lib\\site-packages (from requests>=2.31.0->trino>=0.322->trino[sqlalchemy]>=0.322->pyopensky) (2.0.4)\n",
      "Requirement already satisfied: idna<4,>=2.5 in c:\\users\\dalre\\anaconda3\\lib\\site-packages (from requests>=2.31.0->trino>=0.322->trino[sqlalchemy]>=0.322->pyopensky) (3.4)\n",
      "Requirement already satisfied: greenlet!=0.4.17 in c:\\users\\dalre\\anaconda3\\lib\\site-packages (from sqlalchemy>=1.3->trino[sqlalchemy]>=0.322->pyopensky) (3.0.1)\n",
      "Requirement already satisfied: argon2-cffi-bindings in c:\\users\\dalre\\anaconda3\\lib\\site-packages (from argon2-cffi->minio>=7.1->pyopensky) (21.2.0)\n",
      "Requirement already satisfied: pycparser in c:\\users\\dalre\\anaconda3\\lib\\site-packages (from cffi>=1.1->bcrypt>=3.1.3->paramiko>=2.7->pyopensky) (2.21)\n",
      "Note: you may need to restart the kernel to use updated packages.\n"
     ]
    }
   ],
   "source": [
    "pip install pyopensky"
   ]
  },
  {
   "cell_type": "code",
   "execution_count": 6,
   "metadata": {},
   "outputs": [],
   "source": [
    "import tzlocal\n"
   ]
  },
  {
   "cell_type": "code",
   "execution_count": null,
   "metadata": {},
   "outputs": [],
   "source": [
    "import os\n",
    "import subprocess\n",
    "import sys\n",
    "\n",
    "# code is working\n",
    "\n",
    "\n",
    "def run_command(command):\n",
    "    \"\"\"Run a shell command.\"\"\"\n",
    "    result = subprocess.run(command, shell=True, text=True, capture_output=True)\n",
    "    if result.returncode != 0:\n",
    "        print(f\"Command failed with error: {result.stderr}\")\n",
    "    else:\n",
    "        print(result.stdout)\n",
    "\n",
    "def create_and_activate_virtualenv(env_name=\"myenv\"):\n",
    "    \"\"\"Create and activate a virtual environment.\"\"\"\n",
    "    # Create virtual environment\n",
    "    print(\"Creating virtual environment...\")\n",
    "    run_command(f\"{sys.executable} -m venv {env_name}\")\n",
    "\n",
    "    # Activate virtual environment\n",
    "    activate_script = os.path.join(env_name, 'Scripts', 'activate') if os.name == 'nt' else os.path.join(env_name, 'bin', 'activate')\n",
    "    print(f\"Activating virtual environment... ({activate_script})\")\n",
    "\n",
    "    if os.name == 'nt':\n",
    "        activation_command = f\"{env_name}\\\\Scripts\\\\activate.bat\"\n",
    "    else:\n",
    "        activation_command = f\"source {env_name}/bin/activate\"\n",
    "    \n",
    "    return activation_command\n",
    "\n",
    "def install_packages(packages):\n",
    "    \"\"\"Install the required packages using pip.\"\"\"\n",
    "    for package in packages:\n",
    "        print(f\"Installing {package}...\")\n",
    "        run_command(f\"{sys.executable} -m pip install --upgrade {package}\")\n",
    "\n",
    "def main():\n",
    "    env_name = \"myenv\"\n",
    "    packages = [\"pyopensky\", \"trino\", \"tzlocal==2.1\"]  # Ensure tzlocal version that works\n",
    "\n",
    "    # Create and activate virtual environment\n",
    "    activation_command = create_and_activate_virtualenv(env_name)\n",
    "    \n",
    "    # Install necessary packages\n",
    "    install_packages(packages)\n",
    "\n",
    "    print(\"Setup completed. To activate the virtual environment, run:\")\n",
    "    print(activation_command)\n",
    "    print(\"Then you can run your script within the virtual environment.\")\n",
    "\n",
    "if __name__ == \"__main__\":\n",
    "    main()\n"
   ]
  },
  {
   "cell_type": "code",
   "execution_count": null,
   "metadata": {},
   "outputs": [],
   "source": [
    "import os\n",
    "import subprocess\n",
    "import sys\n",
    "import venv\n",
    "\n",
    "#code is working\n",
    "#Save the script to a file, for example, setup_and_run.py\n",
    "\n",
    "\n",
    "def run_command(command, env=None):\n",
    "    \"\"\"Run a shell command.\"\"\"\n",
    "    result = subprocess.run(command, shell=True, text=True, capture_output=True, env=env)\n",
    "    if result.returncode != 0:\n",
    "        print(f\"Command failed with error: {result.stderr}\")\n",
    "    else:\n",
    "        print(result.stdout)\n",
    "\n",
    "def create_virtualenv(env_name=\"myenv\"):\n",
    "    \"\"\"Create a virtual environment.\"\"\"\n",
    "    print(\"Creating virtual environment...\")\n",
    "    venv.create(env_name, with_pip=True)\n",
    "    print(f\"Virtual environment '{env_name}' created.\")\n",
    "\n",
    "def install_packages(packages, env_name=\"myenv\"):\n",
    "    \"\"\"Install the required packages using pip within the virtual environment.\"\"\"\n",
    "    python_executable = os.path.join(env_name, 'Scripts', 'python.exe') if os.name == 'nt' else os.path.join(env_name, 'bin', 'python')\n",
    "    for package in packages:\n",
    "        print(f\"Installing {package}...\")\n",
    "        run_command(f\"{python_executable} -m pip install --upgrade {package}\")\n",
    "\n",
    "def run_python_script(env_name=\"myenv\", script=\"\"):\n",
    "    \"\"\"Run a Python script within the virtual environment.\"\"\"\n",
    "    python_executable = os.path.join(env_name, 'Scripts', 'python.exe') if os.name == 'nt' else os.path.join(env_name, 'bin', 'python')\n",
    "    run_command(f\"{python_executable} {script}\")\n",
    "\n",
    "def main():\n",
    "    env_name = \"myenv\"\n",
    "    packages = [\"pyopensky\", \"trino\", \"tzlocal==2.1\"]  # Ensure tzlocal version that works\n",
    "\n",
    "    # Create virtual environment\n",
    "    create_virtualenv(env_name)\n",
    "    \n",
    "    # Install necessary packages\n",
    "    install_packages(packages, env_name)\n",
    "\n",
    "    # Path to the Python script you want to run within the virtual environment\n",
    "    # Replace 'your_script.py' with the actual script name\n",
    "    script_to_run = \"your_script.py\"\n",
    "\n",
    "    # Run the Python script within the virtual environment\n",
    "    run_python_script(env_name, script_to_run)\n",
    "\n",
    "    print(\"Setup and execution completed.\")\n",
    "\n",
    "if __name__ == \"__main__\":\n",
    "    main()\n"
   ]
  },
  {
   "cell_type": "code",
   "execution_count": 14,
   "metadata": {},
   "outputs": [
    {
     "ename": "ImportError",
     "evalue": "cannot import name 'get_localzone_name' from 'tzlocal' (c:\\Users\\dalre\\anaconda3\\Lib\\site-packages\\tzlocal\\__init__.py)",
     "output_type": "error",
     "traceback": [
      "\u001b[1;31m---------------------------------------------------------------------------\u001b[0m",
      "\u001b[1;31mImportError\u001b[0m                               Traceback (most recent call last)",
      "Cell \u001b[1;32mIn[14], line 1\u001b[0m\n\u001b[1;32m----> 1\u001b[0m \u001b[38;5;28;01mfrom\u001b[39;00m \u001b[38;5;21;01mpyopensky\u001b[39;00m\u001b[38;5;21;01m.\u001b[39;00m\u001b[38;5;21;01mtrino\u001b[39;00m \u001b[38;5;28;01mimport\u001b[39;00m Trino\n\u001b[0;32m      3\u001b[0m trino \u001b[38;5;241m=\u001b[39m Trino()\n\u001b[0;32m      4\u001b[0m \u001b[38;5;66;03m# full description of the whole set of parameters in the documentation\u001b[39;00m\n",
      "File \u001b[1;32mc:\\Users\\dalre\\anaconda3\\Lib\\site-packages\\pyopensky\\trino.py:28\u001b[0m\n\u001b[0;32m     26\u001b[0m \u001b[38;5;28;01mfrom\u001b[39;00m \u001b[38;5;21;01msqlalchemy\u001b[39;00m\u001b[38;5;21;01m.\u001b[39;00m\u001b[38;5;21;01msql\u001b[39;00m\u001b[38;5;21;01m.\u001b[39;00m\u001b[38;5;21;01mexpression\u001b[39;00m \u001b[38;5;28;01mimport\u001b[39;00m text\n\u001b[0;32m     27\u001b[0m \u001b[38;5;28;01mfrom\u001b[39;00m \u001b[38;5;21;01mtqdm\u001b[39;00m \u001b[38;5;28;01mimport\u001b[39;00m tqdm\n\u001b[1;32m---> 28\u001b[0m \u001b[38;5;28;01mfrom\u001b[39;00m \u001b[38;5;21;01mtrino\u001b[39;00m\u001b[38;5;21;01m.\u001b[39;00m\u001b[38;5;21;01mauth\u001b[39;00m \u001b[38;5;28;01mimport\u001b[39;00m JWTAuthentication, OAuth2Authentication\n\u001b[0;32m     29\u001b[0m \u001b[38;5;28;01mfrom\u001b[39;00m \u001b[38;5;21;01mtrino\u001b[39;00m\u001b[38;5;21;01m.\u001b[39;00m\u001b[38;5;21;01msqlalchemy\u001b[39;00m \u001b[38;5;28;01mimport\u001b[39;00m URL\n\u001b[0;32m     31\u001b[0m \u001b[38;5;28;01mimport\u001b[39;00m \u001b[38;5;21;01mpandas\u001b[39;00m \u001b[38;5;28;01mas\u001b[39;00m \u001b[38;5;21;01mpd\u001b[39;00m\n",
      "File \u001b[1;32mc:\\Users\\dalre\\anaconda3\\Lib\\site-packages\\trino\\__init__.py:13\u001b[0m\n\u001b[0;32m      1\u001b[0m \u001b[38;5;66;03m# Licensed under the Apache License, Version 2.0 (the \"License\");\u001b[39;00m\n\u001b[0;32m      2\u001b[0m \u001b[38;5;66;03m# you may not use this file except in compliance with the License.\u001b[39;00m\n\u001b[0;32m      3\u001b[0m \u001b[38;5;66;03m# You may obtain a copy of the License at\u001b[39;00m\n\u001b[1;32m   (...)\u001b[0m\n\u001b[0;32m     10\u001b[0m \u001b[38;5;66;03m# See the License for the specific language governing permissions and\u001b[39;00m\n\u001b[0;32m     11\u001b[0m \u001b[38;5;66;03m# limitations under the License.\u001b[39;00m\n\u001b[1;32m---> 13\u001b[0m \u001b[38;5;28;01mfrom\u001b[39;00m \u001b[38;5;21;01m.\u001b[39;00m \u001b[38;5;28;01mimport\u001b[39;00m auth, client, constants, dbapi, exceptions, logging\n\u001b[0;32m     14\u001b[0m \u001b[38;5;28;01mfrom\u001b[39;00m \u001b[38;5;21;01m.\u001b[39;00m\u001b[38;5;21;01m_version\u001b[39;00m \u001b[38;5;28;01mimport\u001b[39;00m (\n\u001b[0;32m     15\u001b[0m     __author__,\n\u001b[0;32m     16\u001b[0m     __author_email__,\n\u001b[1;32m   (...)\u001b[0m\n\u001b[0;32m     21\u001b[0m     __version__,\n\u001b[0;32m     22\u001b[0m )\n\u001b[0;32m     24\u001b[0m __all__ \u001b[38;5;241m=\u001b[39m [\n\u001b[0;32m     25\u001b[0m     \u001b[38;5;124m\"\u001b[39m\u001b[38;5;124mauth\u001b[39m\u001b[38;5;124m\"\u001b[39m,\n\u001b[0;32m     26\u001b[0m     \u001b[38;5;124m\"\u001b[39m\u001b[38;5;124mclient\u001b[39m\u001b[38;5;124m\"\u001b[39m,\n\u001b[1;32m   (...)\u001b[0m\n\u001b[0;32m     37\u001b[0m     \u001b[38;5;124m\"\u001b[39m\u001b[38;5;124m__version__\u001b[39m\u001b[38;5;124m\"\u001b[39m,\n\u001b[0;32m     38\u001b[0m ]\n",
      "File \u001b[1;32mc:\\Users\\dalre\\anaconda3\\Lib\\site-packages\\trino\\auth.py:27\u001b[0m\n\u001b[0;32m     24\u001b[0m \u001b[38;5;28;01mfrom\u001b[39;00m \u001b[38;5;21;01mrequests\u001b[39;00m\u001b[38;5;21;01m.\u001b[39;00m\u001b[38;5;21;01mauth\u001b[39;00m \u001b[38;5;28;01mimport\u001b[39;00m AuthBase, extract_cookies_to_jar\n\u001b[0;32m     26\u001b[0m \u001b[38;5;28;01mimport\u001b[39;00m \u001b[38;5;21;01mtrino\u001b[39;00m\u001b[38;5;21;01m.\u001b[39;00m\u001b[38;5;21;01mlogging\u001b[39;00m\n\u001b[1;32m---> 27\u001b[0m \u001b[38;5;28;01mfrom\u001b[39;00m \u001b[38;5;21;01mtrino\u001b[39;00m\u001b[38;5;21;01m.\u001b[39;00m\u001b[38;5;21;01mclient\u001b[39;00m \u001b[38;5;28;01mimport\u001b[39;00m exceptions\n\u001b[0;32m     28\u001b[0m \u001b[38;5;28;01mfrom\u001b[39;00m \u001b[38;5;21;01mtrino\u001b[39;00m\u001b[38;5;21;01m.\u001b[39;00m\u001b[38;5;21;01mconstants\u001b[39;00m \u001b[38;5;28;01mimport\u001b[39;00m HEADER_USER\n\u001b[0;32m     30\u001b[0m logger \u001b[38;5;241m=\u001b[39m trino\u001b[38;5;241m.\u001b[39mlogging\u001b[38;5;241m.\u001b[39mget_logger(\u001b[38;5;18m__name__\u001b[39m)\n",
      "File \u001b[1;32mc:\\Users\\dalre\\anaconda3\\Lib\\site-packages\\trino\\client.py:57\u001b[0m\n\u001b[0;32m     54\u001b[0m     \u001b[38;5;28;01mfrom\u001b[39;00m \u001b[38;5;21;01mbackports\u001b[39;00m\u001b[38;5;21;01m.\u001b[39;00m\u001b[38;5;21;01mzoneinfo\u001b[39;00m \u001b[38;5;28;01mimport\u001b[39;00m ZoneInfo\n\u001b[0;32m     56\u001b[0m \u001b[38;5;28;01mimport\u001b[39;00m \u001b[38;5;21;01mrequests\u001b[39;00m\n\u001b[1;32m---> 57\u001b[0m \u001b[38;5;28;01mfrom\u001b[39;00m \u001b[38;5;21;01mtzlocal\u001b[39;00m \u001b[38;5;28;01mimport\u001b[39;00m get_localzone_name  \u001b[38;5;66;03m# type: ignore\u001b[39;00m\n\u001b[0;32m     59\u001b[0m \u001b[38;5;28;01mimport\u001b[39;00m \u001b[38;5;21;01mtrino\u001b[39;00m\u001b[38;5;21;01m.\u001b[39;00m\u001b[38;5;21;01mlogging\u001b[39;00m\n\u001b[0;32m     60\u001b[0m \u001b[38;5;28;01mfrom\u001b[39;00m \u001b[38;5;21;01mtrino\u001b[39;00m \u001b[38;5;28;01mimport\u001b[39;00m constants, exceptions\n",
      "\u001b[1;31mImportError\u001b[0m: cannot import name 'get_localzone_name' from 'tzlocal' (c:\\Users\\dalre\\anaconda3\\Lib\\site-packages\\tzlocal\\__init__.py)"
     ]
    }
   ],
   "source": [
    "from pyopensky.trino import Trino\n",
    "\n",
    "trino = Trino()\n",
    "# full description of the whole set of parameters in the documentation\n",
    "\n",
    "print(\"Trino client created successfully.\")\n",
    "\n"
   ]
  },
  {
   "cell_type": "code",
   "execution_count": null,
   "metadata": {},
   "outputs": [],
   "source": []
  },
  {
   "cell_type": "code",
   "execution_count": 2,
   "metadata": {},
   "outputs": [
    {
     "ename": "ModuleNotFoundError",
     "evalue": "No module named 'pyopensky'",
     "output_type": "error",
     "traceback": [
      "\u001b[1;31m---------------------------------------------------------------------------\u001b[0m",
      "\u001b[1;31mModuleNotFoundError\u001b[0m                       Traceback (most recent call last)",
      "Cell \u001b[1;32mIn[2], line 1\u001b[0m\n\u001b[1;32m----> 1\u001b[0m \u001b[38;5;28;01mfrom\u001b[39;00m \u001b[38;5;21;01mpyopensky\u001b[39;00m\u001b[38;5;21;01m.\u001b[39;00m\u001b[38;5;21;01mrest\u001b[39;00m \u001b[38;5;28;01mimport\u001b[39;00m REST\n\u001b[0;32m      2\u001b[0m rest \u001b[38;5;241m=\u001b[39m REST()\n",
      "\u001b[1;31mModuleNotFoundError\u001b[0m: No module named 'pyopensky'"
     ]
    }
   ],
   "source": [
    "from pyopensky.rest import REST\n",
    "rest = REST()\n"
   ]
  },
  {
   "cell_type": "code",
   "execution_count": 16,
   "metadata": {},
   "outputs": [
    {
     "name": "stdout",
     "output_type": "stream",
     "text": [
      "Error occurred: name 'api' is not defined\n"
     ]
    }
   ],
   "source": [
    "try:\n",
    "    response = api.get_states()\n",
    "    if response:\n",
    "        states = response['states']\n",
    "        for state in states:\n",
    "            callsign = state[1]\n",
    "            latitude = state[6]\n",
    "            longitude = state[5]\n",
    "            print(f\"Flight {callsign}: Latitude {latitude}, Longitude {longitude}\")\n",
    "    else:\n",
    "        print(\"No data retrieved from OpenSky API.\")\n",
    "except Exception as e:\n",
    "    print(f\"Error occurred: {e}\")\n"
   ]
  },
  {
   "cell_type": "markdown",
   "metadata": {},
   "source": [
    "Yes, the ADS-B Exchange website provides raw data for both commercial and private airplanes. You can access live data feeds and historical data specified by aircraft, type, time period, and geographical region. The data includes detailed flight tracking information in JSON format and is available for both individual and commercial use.\n",
    "\n",
    "uninstall pip install python_opensky and pip install pyopensky, conda install -c conda-forge pyopensky\n",
    "\n",
    "https://pypi.org/project/pyopensky/\n",
    "conda install -c conda-forge pyopensky\n",
    "from pyopensky.rest import REST\n",
    "rest = REST()\n",
    "rest.states()\n",
    "rest.tracks(icao24)\n",
    "rest.routes(callsign)\n",
    "rest.aircraft(icao24, begin, end)\n",
    "rest.arrival(airport, begin, end)\n",
    "rest.departure(airport, begin, end)"
   ]
  },
  {
   "cell_type": "code",
   "execution_count": 1,
   "metadata": {},
   "outputs": [
    {
     "name": "stdout",
     "output_type": "stream",
     "text": [
      "      icao24  callsign origin_country  time_position  last_contact  longitude  \\\n",
      "0     4b1818  SWR254      Switzerland   1.720517e+09    1720517010    35.4908   \n",
      "1     a6fe0f  N55LC     United States   1.720517e+09    1720516941    -4.7175   \n",
      "2     3dd65e  RDF21           Germany   1.720517e+09    1720517015    11.5432   \n",
      "3     7c6b2f  JST708        Australia   1.720517e+09    1720517068   146.7607   \n",
      "4     7c6b2d  JST529        Australia   1.720517e+09    1720517087   150.2363   \n",
      "...      ...       ...            ...            ...           ...        ...   \n",
      "6248  a12403  UAL2102   United States   1.720517e+09    1720517087   -94.8286   \n",
      "6249  4b1900  EDW11K      Switzerland   1.720517e+09    1720517034     8.5571   \n",
      "6250  458664  CAT761          Denmark   1.720517e+09    1720517087    -8.4476   \n",
      "6251  458666  CAT337          Denmark   1.720517e+09    1720517087    12.7667   \n",
      "6252  c00734  WJA736           Canada   1.720517e+09    1720516980   -81.2375   \n",
      "\n",
      "      latitude  baro_altitude  on_ground  velocity  true_track  vertical_rate  \\\n",
      "0      33.8183         152.40      False      0.51       90.00          -2.93   \n",
      "1      36.7882        1165.86      False     96.44      151.66          -5.20   \n",
      "2      48.6888         335.28      False     19.80      245.43          -0.98   \n",
      "3     -40.7012        9144.00      False    179.79      337.99           0.00   \n",
      "4     -34.8910       10111.74      False    200.04      234.10           6.83   \n",
      "...        ...            ...        ...       ...         ...            ...   \n",
      "6248   39.7737       11277.60      False    269.27       72.43           0.00   \n",
      "6249   47.4517         388.62       True      0.00      185.62            NaN   \n",
      "6250   42.3272       10668.00      False    203.99      218.34           0.00   \n",
      "6251   40.6662       11277.60      False    245.06      168.62           0.00   \n",
      "6252   43.1067         762.00      False     79.46      138.67          -3.58   \n",
      "\n",
      "     sensors  geo_altitude squawk    spi  position_source  \n",
      "0       None        205.74   3070  False                0  \n",
      "1       None       1379.22   5071  False                0  \n",
      "2       None        434.34   4267  False                0  \n",
      "3       None       9204.96   None  False                0  \n",
      "4       None      10203.18   7225  False                0  \n",
      "...      ...           ...    ...    ...              ...  \n",
      "6248    None      11803.38   2035  False                0  \n",
      "6249    None           NaN   5227  False                0  \n",
      "6250    None      11109.96   3523  False                0  \n",
      "6251    None      11932.92   0775  False                0  \n",
      "6252    None        746.76   2126  False                0  \n",
      "\n",
      "[6253 rows x 17 columns]\n"
     ]
    }
   ],
   "source": [
    "import requests\n",
    "import json\n",
    "import datetime\n",
    "import pandas as pd\n",
    "\n",
    "# Set the URL for the OpenSky Network API\n",
    "url = \"https://opensky-network.org/api/states/all\"\n",
    "\n",
    "# Set the parameters for the API call (example for a specific time)\n",
    "params = {\n",
    "    \"begin\": int(datetime.datetime(2023, 1, 1, 0, 0).timestamp()),  # Start time\n",
    "    \"end\": int(datetime.datetime(2023, 1, 2, 0, 0).timestamp())     # End time\n",
    "}\n",
    "\n",
    "# Make the API call\n",
    "response = requests.get(url, params=params)\n",
    "data = response.json()\n",
    "\n",
    "# Extract the relevant part of the JSON data\n",
    "states = data.get(\"states\", [])\n",
    "\n",
    "# Define the column names based on the OpenSky API documentation\n",
    "columns = [\n",
    "    \"icao24\", \"callsign\", \"origin_country\", \"time_position\", \"last_contact\", \n",
    "    \"longitude\", \"latitude\", \"baro_altitude\", \"on_ground\", \"velocity\", \n",
    "    \"true_track\", \"vertical_rate\", \"sensors\", \"geo_altitude\", \"squawk\", \n",
    "    \"spi\", \"position_source\"\n",
    "]\n",
    "\n",
    "# Create a DataFrame from the states data\n",
    "df = pd.DataFrame(states, columns=columns)\n",
    "\n",
    "# Print the DataFrame\n",
    "print(df)\n"
   ]
  }
 ],
 "metadata": {
  "kernelspec": {
   "display_name": "base",
   "language": "python",
   "name": "python3"
  },
  "language_info": {
   "codemirror_mode": {
    "name": "ipython",
    "version": 3
   },
   "file_extension": ".py",
   "mimetype": "text/x-python",
   "name": "python",
   "nbconvert_exporter": "python",
   "pygments_lexer": "ipython3",
   "version": "3.11.7"
  }
 },
 "nbformat": 4,
 "nbformat_minor": 2
}
