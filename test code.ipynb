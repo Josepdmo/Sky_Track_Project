{
 "cells": [
  {
   "cell_type": "markdown",
   "metadata": {},
   "source": [
    "Yes, the ADS-B Exchange website provides raw data for both commercial and private airplanes. You can access live data feeds and historical data specified by aircraft, type, time period, and geographical region. The data includes detailed flight tracking information in JSON format and is available for both individual and commercial use.\n",
    "\n",
    "uninstall pip install python_opensky and pip install pyopensky, conda install -c conda-forge pyopensky\n",
    "\n",
    "https://pypi.org/project/pyopensky/\n",
    "conda install -c conda-forge pyopensky\n",
    "from pyopensky.rest import REST\n",
    "rest = REST()\n",
    "rest.states()\n",
    "rest.tracks(icao24)\n",
    "rest.routes(callsign)\n",
    "rest.aircraft(icao24, begin, end)\n",
    "rest.arrival(airport, begin, end)\n",
    "rest.departure(airport, begin, end)"
   ]
  },
  {
   "cell_type": "code",
   "execution_count": null,
   "metadata": {},
   "outputs": [],
   "source": [
    "import requests\n",
    "import json\n",
    "import datetime\n",
    "import pandas as pd\n",
    "\n",
    "# Set the URL for the OpenSky Network API\n",
    "url = \"https://opensky-network.org/api/states/all\"\n",
    "\n",
    "# Set the parameters for the API call (example for a specific time)\n",
    "params = {\n",
    "    \"begin\": int(datetime.datetime(2023, 1, 1, 0, 0).timestamp()),  # Start time\n",
    "    \"end\": int(datetime.datetime(2023, 1, 2, 0, 0).timestamp())     # End time\n",
    "}\n",
    "\n",
    "# Make the API call\n",
    "response = requests.get(url, params=params)\n",
    "data = response.json()\n",
    "\n",
    "# Extract the relevant part of the JSON data\n",
    "states = data.get(\"states\", [])\n",
    "\n",
    "# Define the column names based on the OpenSky API documentation\n",
    "columns = [\n",
    "    \"icao24\", \"callsign\", \"origin_country\", \"time_position\", \"last_contact\", \n",
    "    \"longitude\", \"latitude\", \"baro_altitude\", \"on_ground\", \"velocity\", \n",
    "    \"true_track\", \"vertical_rate\", \"sensors\", \"geo_altitude\", \"squawk\", \n",
    "    \"spi\", \"position_source\"\n",
    "]\n",
    "\n",
    "# Create a DataFrame from the states data\n",
    "df = pd.DataFrame(states, columns=columns)\n",
    "\n",
    "# Print the DataFrame\n",
    "print(df)\n"
   ]
  },
  {
   "cell_type": "markdown",
   "metadata": {},
   "source": [
    "1. Most Pollutant Routes in Summer 2022\n",
    "Analysis: Calculate the total CO2 emissions for each route.\n",
    "Approach: Sum CO2 emissions for all flights on each route, then rank them to find the most polluting routes."
   ]
  },
  {
   "cell_type": "markdown",
   "metadata": {},
   "source": [
    "2. Most Polluting Aircraft Types\n",
    "Analysis: Determine CO2 emissions by aircraft type.\n",
    "Approach: Aggregate CO2 emissions by aircraft type and identify which types have the highest emissions.\n"
   ]
  },
  {
   "cell_type": "markdown",
   "metadata": {},
   "source": [
    "3. Correlation Between Ticket Price and CO2 Emissions\n",
    "Analysis: Explore the relationship between ticket price and CO2 emissions per flight.\n",
    "Approach: Calculate the correlation coefficient between ticket price and CO2 emissions."
   ]
  },
  {
   "cell_type": "markdown",
   "metadata": {},
   "source": [
    "4. Most Popular Routes\n",
    "Analysis: Identify routes with the highest number of flights.\n",
    "Approach: Count the number of flights for each route and rank them."
   ]
  },
  {
   "cell_type": "markdown",
   "metadata": {},
   "source": [
    "5. Shortest and Longest Routes\n",
    "Analysis: Find the routes with the minimum and maximum distances.\n",
    "Approach: Use the distance data to identify the shortest and longest routes.\n"
   ]
  },
  {
   "cell_type": "markdown",
   "metadata": {},
   "source": [
    "6. Correlation Between Price and Distance\n",
    "Analysis: Examine how ticket prices vary with distance.\n",
    "Approach: Calculate the correlation coefficient between ticket price and distance traveled."
   ]
  },
  {
   "cell_type": "markdown",
   "metadata": {},
   "source": [
    "7. Correlation Between Price and Number of Stops\n",
    "Analysis: Investigate how the number of stops impacts ticket prices.\n",
    "Approach: Calculate the correlation coefficient between ticket price and number of stops."
   ]
  },
  {
   "cell_type": "markdown",
   "metadata": {},
   "source": [
    "8. Fuel Consumption by Plane Type\n",
    "Additional Data Required: Find a dataset that provides fuel consumption rates for different aircraft types.\n",
    "Analysis: Combine fuel consumption data with distance traveled to calculate fuel efficiency and emissions.\n",
    "Approach: Use the additional fuel consumption data to calculate the fuel consumption for each flight based on its aircraft type and distance, then analyze the results.\n",
    "Additional Suggestions for Analysis:\n",
    "\n",
    "9. CO2 Emissions by Airline\n",
    "\n",
    "Analysis: Compare the CO2 emissions of different airlines.\n",
    "Approach: Aggregate CO2 emissions data by airline and analyze their relative environmental impact.\n",
    "\n",
    "10. CO2 Emissions by Airport\n",
    "\n",
    "Analysis: Assess the total CO2 emissions associated with each airport.\n",
    "Approach: Sum the CO2 emissions for all departures and arrivals at each airport."
   ]
  },
  {
   "cell_type": "code",
   "execution_count": 1,
   "metadata": {},
   "outputs": [
    {
     "ename": "SyntaxError",
     "evalue": "(unicode error) 'unicodeescape' codec can't decode bytes in position 2-3: truncated \\UXXXXXXXX escape (944910413.py, line 2)",
     "output_type": "error",
     "traceback": [
      "\u001b[1;36m  Cell \u001b[1;32mIn[1], line 2\u001b[1;36m\u001b[0m\n\u001b[1;33m    df = pd.read_csv(\"C:\\Users\\dalre\\Downloads\\flight data.csv\")\u001b[0m\n\u001b[1;37m                                                               ^\u001b[0m\n\u001b[1;31mSyntaxError\u001b[0m\u001b[1;31m:\u001b[0m (unicode error) 'unicodeescape' codec can't decode bytes in position 2-3: truncated \\UXXXXXXXX escape\n"
     ]
    }
   ],
   "source": [
    "[=]\n",
    "import pandas as pd\n",
    "df = pd.read_csv(\"C:\\Users\\dalre\\Downloads\\flight data.csv\")\n"
   ]
  }
 ],
 "metadata": {
  "kernelspec": {
   "display_name": "base",
   "language": "python",
   "name": "python3"
  },
  "language_info": {
   "codemirror_mode": {
    "name": "ipython",
    "version": 3
   },
   "file_extension": ".py",
   "mimetype": "text/x-python",
   "name": "python",
   "nbconvert_exporter": "python",
   "pygments_lexer": "ipython3",
   "version": "3.11.7"
  }
 },
 "nbformat": 4,
 "nbformat_minor": 2
}
